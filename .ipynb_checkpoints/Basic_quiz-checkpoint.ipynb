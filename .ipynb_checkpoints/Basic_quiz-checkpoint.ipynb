{
 "cells": [
  {
   "cell_type": "markdown",
   "id": "7498498d-90d9-4728-89b4-b2c516ffc537",
   "metadata": {
    "tags": []
   },
   "source": [
    "## **퀴즈 #1**"
   ]
  },
  {
   "cell_type": "raw",
   "id": "8458cc48-803b-4e9f-b49e-b59d12be126a",
   "metadata": {
    "raw_mimetype": "pdf",
    "tags": []
   },
   "source": [
    "변수를 이용하여 다음 문장을 출력하시오\n",
    "\n",
    "변수명: station\n",
    "변수값: \"사당\", \"신도림\", \"인천공항\" 순서대로 입력\n",
    "\n",
    "출력문장: XX행 열차가 들어오고 있습니다."
   ]
  },
  {
   "cell_type": "code",
   "execution_count": null,
   "id": "07ecee52-957c-4008-a29c-23943c4a32d9",
   "metadata": {},
   "outputs": [
    {
     "name": "stdout",
     "output_type": "stream",
     "text": [
      "사당행 열차가 들어오고 있습니다.\n",
      "신도림행 열차가 들어오고 있습니다.\n",
      "인천공항행 열차가 들어오고 있습니다.\n"
     ]
    }
   ],
   "source": [
    "station = \"사당\"\n",
    "print(station + \"행 열차가 들어오고 있습니다.\")\n",
    "station = \"신도림\"\n",
    "print(station + \"행 열차가 들어오고 있습니다.\")\n",
    "station = \"인천공항\"\n",
    "print(station + \"행 열차가 들어오고 있습니다.\")"
   ]
  },
  {
   "cell_type": "markdown",
   "id": "a4a3b310-26a5-4718-a9ae-74548d1e183c",
   "metadata": {
    "tags": []
   },
   "source": [
    "## **퀴즈 #2**"
   ]
  },
  {
   "cell_type": "raw",
   "id": "2e63a9b6-378a-436d-89b1-aa3c26c64b14",
   "metadata": {},
   "source": [
    "당신은 최근에 코딩 스터디 모임을 새로 만들었습니다.\n",
    "월 4회 스터디를 하는데 3번은 온라인으로 하고 1번은 오프라인으로 하기로 했습니다.\n",
    "아래 조건에 맞는 오프라인 모임 날짜를 정해주는 프로그램을 작성하시오.\n",
    "\n",
    "조건1: 랜덤으로 날짜를 뽑아야함\n",
    "조건2: 월별 날짜는 다름을 감안하여 최소 일수인 28일 이내로 정함\n",
    "조건3: 매월 1~3일은 스터디 준비를 해야하므로 제외\n",
    "\n",
    "출력문장: 오프라인 스터디 모임 날짜는 매월 x일로 선정되었습니다."
   ]
  },
  {
   "cell_type": "code",
   "execution_count": 9,
   "id": "632ff0d5-1450-4281-83ad-6df9bbf942e0",
   "metadata": {},
   "outputs": [
    {
     "name": "stdout",
     "output_type": "stream",
     "text": [
      "오프라인 스터디 모임 날짜는 매월 14일로 선정되었습니다.\n"
     ]
    }
   ],
   "source": [
    "from random import *\n",
    "day = randint(4,28)\n",
    "print(\"오프라인 스터디 모임 날짜는 매월 {}일로 선정되었습니다.\".format(day))"
   ]
  },
  {
   "cell_type": "markdown",
   "id": "21665134-c5b1-4eda-b9ce-c299ec83b15a",
   "metadata": {
    "tags": []
   },
   "source": [
    "## **퀴즈 #3**"
   ]
  },
  {
   "cell_type": "raw",
   "id": "909a67e1-5c29-4b5b-9a01-d2dc2616eea8",
   "metadata": {},
   "source": [
    "사이트별로 비밀번호를 만들어주는 프로그램을 작성하시오.\n",
    "예) http://naver.com\n",
    "\n",
    "규칙1: http:// 부분은 제외 => naver.com\n",
    "규칙2: 처음 만나는 점(.) 이후 부분은 제외 => naver\n",
    "규칙3: 남은 글자 중 처음 세자리 + 글자 개수 + 글자 내 'e' 개수 + \"!\"로 구성\n",
    "　　　　　　　　　(nav)　　　　　　(5)　　　　 　　(1)　　　　 (!)\n",
    "\n",
    "예) 생성된 비밀번호: nav51!"
   ]
  },
  {
   "cell_type": "code",
   "execution_count": 18,
   "id": "f2cafe51-12d1-47d7-9351-5c11cffc5135",
   "metadata": {},
   "outputs": [
    {
     "name": "stdin",
     "output_type": "stream",
     "text": [
      "사이트를 입력하시오 http://naver.com\n"
     ]
    },
    {
     "name": "stdout",
     "output_type": "stream",
     "text": [
      "naver.com\n",
      "naver\n",
      "생성된 비밀번호: nav51!\n"
     ]
    }
   ],
   "source": [
    "url = input(\"사이트를 입력하시오\")\n",
    "\n",
    "# 규칙1\n",
    "url = url.replace(\"http://\", \"\")\n",
    "print(url)\n",
    "\n",
    "# 규칙2\n",
    "ind = url.index(\".\")\n",
    "url = url[:ind]\n",
    "print(url)\n",
    "\n",
    "# 규칙3\n",
    "a = url[:3]\n",
    "b = len(url)\n",
    "c = url.count(\"e\")\n",
    "password = a + str(b) + str(c) + \"!\"\n",
    "\n",
    "print(\"생성된 비밀번호:\", password)"
   ]
  },
  {
   "cell_type": "markdown",
   "id": "355d4a0c-3b80-49be-963c-13d109fd01a0",
   "metadata": {},
   "source": [
    "## **퀴즈 #4**"
   ]
  },
  {
   "cell_type": "raw",
   "id": "d3c6f231-1461-4708-88de-fada6730b5c4",
   "metadata": {
    "tags": []
   },
   "source": [
    "당신의 학교에서는 파이썬 코딩 대회를 주최합니다.\n",
    "참석률을 높이기 위해 댓글 이벤트를 진행하기로 하였습니다.\n",
    "댓글 작성자들 중에 추첨을 통해 1명은 치킨, 3명은 커피 쿠폰을 받게 됩니다.\n",
    "\n",
    "조건1: 편의상 댓글은 20명이 작성하였고 아이디는 1~20이라고 가정\n",
    "조건2: 댓글 내용과 상관없이 무작위로 추첨하되 중복불가\n",
    "조건3: random 모듈의 shuffle과 sample을 활용\n",
    "\n",
    "(출력 예제)\n",
    "-- 당첨자 발표 --\n",
    "치킨 당첨자: 1\n",
    "커피 당첨자: [2, 3, 4]\n",
    "-- 축하합니다 --\n",
    "\n",
    "(활용 예제)\n",
    "from random import *\n",
    "lst = [1,2,3,4,5]\n",
    "print(lst)\n",
    "shuffle(lst)\n",
    "print(lst)\n",
    "print(sample(lst, 1))"
   ]
  },
  {
   "cell_type": "code",
   "execution_count": 25,
   "id": "a9dc9b30-f877-42ee-b421-93c9bcf16ffc",
   "metadata": {},
   "outputs": [
    {
     "name": "stdout",
     "output_type": "stream",
     "text": [
      "[1, 2, 3, 4, 5]\n",
      "[2, 4, 1, 5, 3]\n",
      "[4]\n"
     ]
    }
   ],
   "source": [
    "from random import *\n",
    "\n",
    "lst = [1,2,3,4,5]\n",
    "print(lst)\n",
    "shuffle(lst)\n",
    "print(lst)\n",
    "print(sample(lst, 1))"
   ]
  },
  {
   "cell_type": "code",
   "execution_count": 39,
   "id": "2cf1f514-775c-47d1-8258-5cbd1f983b42",
   "metadata": {},
   "outputs": [
    {
     "name": "stdout",
     "output_type": "stream",
     "text": [
      "[5, 9, 6, 12, 8, 1, 13, 4, 3, 7, 17, 18, 10, 19, 15, 16, 11, 2, 20, 14]\n",
      "[15, 13, 4, 17]\n",
      "-- 당첨자 발표 --\n",
      "치킨 당첨자: 15\n",
      "커피 당첨자: [13, 4, 17]\n",
      "-- 축하합니다 --\n"
     ]
    }
   ],
   "source": [
    "users = list(range(1,21))\n",
    "shuffle(users)\n",
    "print(users)\n",
    "\n",
    "winners = sample(users, 4) # 중복불가하므로 4명을 임의 추출\n",
    "print(winners)\n",
    "\n",
    "print(\"-- 당첨자 발표 --\")\n",
    "print(\"치킨 당첨자:\", winners[0])\n",
    "print(\"커피 당첨자:\", winners[1:])\n",
    "print(\"-- 축하합니다 --\")"
   ]
  },
  {
   "cell_type": "markdown",
   "id": "b214c276-737f-44bb-88ee-5b455669a0ad",
   "metadata": {
    "tags": []
   },
   "source": [
    "## **퀴즈 #5**"
   ]
  },
  {
   "cell_type": "raw",
   "id": "e6eee121-fc26-47a4-96d3-9f6525818b0e",
   "metadata": {},
   "source": [
    "당신은 Cocoa 서비스를 이용하는 택시 기사님입니다.\n",
    "50명의 승객과 매칭 기회가 있을 때, 총 탑승 승객 수를 구하는 프로그램을 작성하시오.\n",
    "\n",
    "조건1: 승객별 운행 소요시간은 5분 ~ 50분 사이의 난수로 정해집니다.\n",
    "조건2: 당신은 소요시간 5분 ~ 15분 사이의 승객만 매칭해야 합니다.\n",
    "\n",
    "(출력문 예제)\n",
    "[O] 1번째 손님 (소요시간: 15분)\n",
    "[ ] 2번째 손님 (소요시간: 50분)\n",
    "[O] 3번째 손님 (소요시간: 5분)\n",
    "...\n",
    "[ ] 50번째 손님 (소요시간: 16분)\n",
    "\n",
    "총 탑승 승객: 2분"
   ]
  },
  {
   "cell_type": "markdown",
   "id": "d4fb0293-142b-4628-bece-bb6eb3007765",
   "metadata": {
    "tags": []
   },
   "source": [
    "## **퀴즈 #6**"
   ]
  },
  {
   "cell_type": "raw",
   "id": "44cecbc6-9333-48f5-85d6-d2e1ab731fb9",
   "metadata": {},
   "source": [
    "표준 체중을 구하는 프로그램을 작성하시오.\n",
    "* 표준 체중: 각 개인의 키에 적당한 체중\n",
    "\n",
    "(성별에 따른 공식)\n",
    "남자: 키(m) x 키(m) x 22\n",
    "여자: 키(m) x 키(m) x 21\n",
    "\n",
    "조건1: 표준 체중은 별도의 함수 내에서 계산\n",
    "        * 함수명: std_weight\n",
    "        * 전달값: 키(height), 성별(gender)\n",
    "조건2: 표준 체중은 소수점 둘째자리까지 표시\n",
    "\n",
    "(출력문 예제)\n",
    "키 175cm 남자의 표준 체중은 67.38k 입니다."
   ]
  },
  {
   "cell_type": "markdown",
   "id": "0ba80cc9-4200-4c00-9d06-446ac86240f3",
   "metadata": {},
   "source": [
    "## **퀴즈 #7**"
   ]
  },
  {
   "cell_type": "raw",
   "id": "13351c1d-ec27-4aea-97f9-09d4c529d13d",
   "metadata": {},
   "source": [
    "당신의 회사에서는 매주 1회 작성해야 하는 보고서가 있습니다.\n",
    "보고서는 항상 아래와 같은 형태로 출력되어야 합니다.\n",
    "\n",
    "- X주차 주간보고 -\n",
    "부서:\n",
    "이름:\n",
    "업무 요약:\n",
    "    \n",
    "1주차부터 50주차까지의 보고서 파일을 만드는 프로그램을 작성하시오.\n",
    "\n",
    "조건: 파일명은 '1주차.txt', '2주차.txt', ... 와 같이 만듭니다."
   ]
  },
  {
   "cell_type": "markdown",
   "id": "a4fd893c-6151-41c0-8fba-155577056545",
   "metadata": {},
   "source": [
    "## **퀴즈 #8**"
   ]
  },
  {
   "cell_type": "raw",
   "id": "e7e320c3-11aa-4a3d-be63-ed2125096b76",
   "metadata": {},
   "source": [
    "Quiz) 주어진 코드를 활용하여 부동산 프로그램을 작성하시오.\n",
    "\n",
    "(출력문 예제)\n",
    "총 3대의 매물이 있습니다.\n",
    "강남 아파트 매매 10억 2010년\n",
    "마포 오피스텔 전세 5억 2007년\n",
    "송파 빌라 월세 500/50 2000년\n",
    "\n",
    "[코드]\n",
    "class House:\n",
    "    # 매물 초기화\n",
    "    def __init__(self, location, house_type, deal_type, price, completion_year):\n",
    "        pass\n",
    "    # 매물 정보 표시\n",
    "    def show_detail(self):\n",
    "        pass"
   ]
  },
  {
   "cell_type": "markdown",
   "id": "518cc749-9a55-4625-a81c-b020ead99b74",
   "metadata": {},
   "source": [
    "## **퀴즈 #9**"
   ]
  },
  {
   "cell_type": "raw",
   "id": "a32fab51-bdad-4e5a-b961-35938012e175",
   "metadata": {},
   "source": [
    "Quiz) 동네에 항상 대기 손님이 있는 맛있는 치킨집이 있습니다.\n",
    "대기 손님의 치킨 요리 시간을 줄이고자 자동 주문 시스템을 제작하였습니다.\n",
    "시스템 코드를 확인하고 적절한 예외처리 구문을 넣으시오.\n",
    "\n",
    "조건1: 1보다 작거나 숫자가 아닌 입력값이 들어올 때는 ValueError로 처리\n",
    "    출력 메시지: \"잘못된 값을 입력하였습니다.\"\n",
    "조건2: 대기 손님이 주문할 수 있는 총 치킨량은 10마리로 한정\n",
    "    치킨 소진 시 사용자 정의 에러[SoldOutError]를 발생시키고 프로그램 종료\n",
    "    출력 메시지: \"재고가 소진되어 더 이상 주문을 받지 않습니다.\"\n",
    "    \n",
    "[코드]\n",
    "chicken = 10\n",
    "waiting = 1 # 홀 안에는 현재 만석, 대기번호 1부터 시작\n",
    "\n",
    "while(True):\n",
    "    print(\"[남은 치킨: {0}]\".format(chicken))\n",
    "    order = int(input(\"치킨 몇 마리 주문하시겠습니까?\"))\n",
    "    if order > chicken: # 남은 치킨보다 주문량이 많을 때\n",
    "        print(\"재료가 부족합니다.\")\n",
    "    else:\n",
    "        print(\"[대기번호 {0}] {1}마리 주문이 완료되었습니다.\"\\\n",
    "            .format(waiting, order))\n",
    "        waiting += 1\n",
    "        chicken -= order"
   ]
  },
  {
   "cell_type": "markdown",
   "id": "41f58f1a-6b91-48d6-b422-e3eb81f1da88",
   "metadata": {},
   "source": [
    "## **퀴즈 #10**"
   ]
  },
  {
   "cell_type": "raw",
   "id": "6eed44ac-e679-4f10-bc70-11a85a0818b7",
   "metadata": {},
   "source": [
    "Quiz) 프로젝트 내에 나만의 시그니처를 남기는 모듈을 만드시오\n",
    "\n",
    "조건: 모듈 파일명은 byme.py로 작성\n",
    "\n",
    "(모듈 사용 예제)\n",
    "import byme\n",
    "byme.sign()\n",
    "\n",
    "(출력 예제)\n",
    "이 프로그램은 나도코딩에 의해 만들어졌습니다.\n",
    "유튜브: http://youtube.com\n",
    "이메일: nadocoding@gmail.com"
   ]
  }
 ],
 "metadata": {
  "kernelspec": {
   "display_name": "Python 3 (ipykernel)",
   "language": "python",
   "name": "python3"
  },
  "language_info": {
   "codemirror_mode": {
    "name": "ipython",
    "version": 3
   },
   "file_extension": ".py",
   "mimetype": "text/x-python",
   "name": "python",
   "nbconvert_exporter": "python",
   "pygments_lexer": "ipython3",
   "version": "3.8.15"
  }
 },
 "nbformat": 4,
 "nbformat_minor": 5
}
