{
 "cells": [
  {
   "cell_type": "markdown",
   "id": "5efd85c0-0a38-45c1-a51b-a5ce2b4f538a",
   "metadata": {
    "tags": []
   },
   "source": [
    "# **1) 자료형**"
   ]
  },
  {
   "cell_type": "markdown",
   "id": "9eb34c88-34ab-4ad4-b49c-3822bcf4a899",
   "metadata": {
    "jp-MarkdownHeadingCollapsed": true,
    "tags": []
   },
   "source": [
    "### ***기본 자료형***"
   ]
  },
  {
   "cell_type": "code",
   "execution_count": 1,
   "id": "aecbd352-08ab-42e8-9b39-787324cbd082",
   "metadata": {},
   "outputs": [
    {
     "name": "stdout",
     "output_type": "stream",
     "text": [
      "5\n",
      "-10\n",
      "3.14\n",
      "1000\n",
      "8\n",
      "16\n",
      "12\n"
     ]
    }
   ],
   "source": [
    "# 숫자형\n",
    "print(5)\n",
    "print(-10)\n",
    "print(3.14)\n",
    "print(1000)\n",
    "print(5+3)\n",
    "print(2*8)\n",
    "print(3*(3+1))"
   ]
  },
  {
   "cell_type": "code",
   "execution_count": 2,
   "id": "1cc58060-56dc-4aa0-8448-2ac3d2bde3e5",
   "metadata": {},
   "outputs": [
    {
     "name": "stdout",
     "output_type": "stream",
     "text": [
      "풍선\n",
      "나비\n",
      "ㅋㅋㅋㅋㅋ\n",
      "ㅋㅋㅋㅋㅋ\n"
     ]
    }
   ],
   "source": [
    "# 문자열\n",
    "print('풍선')\n",
    "print(\"나비\")\n",
    "print(\"ㅋㅋㅋㅋㅋ\")\n",
    "print(\"ㅋ\"*5)"
   ]
  },
  {
   "cell_type": "code",
   "execution_count": 3,
   "id": "433774ac-adc0-43ba-b21c-6302625249fe",
   "metadata": {},
   "outputs": [
    {
     "name": "stdout",
     "output_type": "stream",
     "text": [
      "\n",
      "안녕하세요\n",
      "안녕하세요\n",
      "\n"
     ]
    }
   ],
   "source": [
    "sentence = \"\"\"\n",
    "안녕하세요\n",
    "안녕하세요\n",
    "\"\"\"\n",
    "print(sentence)"
   ]
  },
  {
   "cell_type": "code",
   "execution_count": 4,
   "id": "87c05243-ab47-4289-8517-272dc0ddb5bd",
   "metadata": {},
   "outputs": [
    {
     "name": "stdout",
     "output_type": "stream",
     "text": [
      "False\n",
      "True\n",
      "True\n",
      "False\n",
      "False\n",
      "True\n",
      "True\n"
     ]
    }
   ],
   "source": [
    "# boolean - 참과 거짓\n",
    "print(5 > 10)\n",
    "print(5 < 10)\n",
    "print(True)\n",
    "print(False)\n",
    "print(not True)\n",
    "print(not False)\n",
    "print(not (5 > 10))"
   ]
  },
  {
   "cell_type": "markdown",
   "id": "265cf627-b596-4a51-802c-2e3d159c55b0",
   "metadata": {
    "jp-MarkdownHeadingCollapsed": true,
    "tags": []
   },
   "source": [
    "### ***변수***"
   ]
  },
  {
   "cell_type": "code",
   "execution_count": 5,
   "id": "452fb00a-5747-48b8-8c37-6245a8e74f83",
   "metadata": {},
   "outputs": [
    {
     "name": "stdout",
     "output_type": "stream",
     "text": [
      "우리집 강아지의 이름은 호두\n",
      "호두는 5살이며, 산책을 아주 좋아함\n",
      "호두는 어른일까? True\n"
     ]
    }
   ],
   "source": [
    "# 애완동물 소개\n",
    "print(\"우리집 강아지의 이름은 호두\")\n",
    "print(\"호두는 5살이며, 산책을 아주 좋아함\")\n",
    "print(\"호두는 어른일까? True\")"
   ]
  },
  {
   "cell_type": "code",
   "execution_count": 6,
   "id": "be800ccf-ca4b-4504-ae32-43d592f0df7a",
   "metadata": {},
   "outputs": [
    {
     "name": "stdout",
     "output_type": "stream",
     "text": [
      "우리집  강아지 의 이름은  호두\n",
      "호두 는  5 살이며,  산책 을 아주 좋아함\n",
      "호두 는 어른일까?  True\n"
     ]
    }
   ],
   "source": [
    "# 애완동물 소개 _ 변수이용\n",
    "animal = \"강아지\"\n",
    "name = \"호두\"\n",
    "age = 5\n",
    "hobby = \"산책\"\n",
    "is_adult = age >= 3\n",
    "\n",
    "print(\"우리집 \", animal, \"의 이름은 \", name)\n",
    "print(name, \"는 \", age, \"살이며, \", hobby, \"을 아주 좋아함\")\n",
    "print(name, \"는 어른일까? \", is_adult)"
   ]
  },
  {
   "cell_type": "markdown",
   "id": "9a2dda24-0c4b-4aa7-a976-5a709175c39f",
   "metadata": {
    "tags": []
   },
   "source": [
    "#### **(주의) , 이용시 빈칸이 하나 들어가게 됨!**"
   ]
  },
  {
   "cell_type": "code",
   "execution_count": 7,
   "id": "8982ea80",
   "metadata": {},
   "outputs": [
    {
     "name": "stdout",
     "output_type": "stream",
     "text": [
      "우리집  강아지 의 이름은  호두\n",
      "호두 는  5 살이며,  산책 을 아주 좋아함\n",
      "호두 는 어른일까?  True\n"
     ]
    }
   ],
   "source": [
    "# 애완동물 소개 _ 변수이용\n",
    "animal = \"강아지\"\n",
    "name = \"호두\"\n",
    "age = 5\n",
    "hobby = \"산책\"\n",
    "is_adult = age >= 3\n",
    "\n",
    "print(\"우리집 \", animal, \"의 이름은 \", name)\n",
    "print(name, \"는 \", age, \"살이며, \", hobby, \"을 아주 좋아함\")\n",
    "print(name, \"는 어른일까? \", is_adult)"
   ]
  },
  {
   "cell_type": "markdown",
   "id": "f2089db0-d790-4674-bce6-2dd438883e79",
   "metadata": {
    "jp-MarkdownHeadingCollapsed": true,
    "tags": []
   },
   "source": [
    "# **2) 연산자**"
   ]
  },
  {
   "cell_type": "markdown",
   "id": "9f15901b-7b68-4907-a7ca-439c094ca4a6",
   "metadata": {
    "jp-MarkdownHeadingCollapsed": true,
    "tags": []
   },
   "source": [
    "### ***기본 연산자***"
   ]
  },
  {
   "cell_type": "code",
   "execution_count": 8,
   "id": "0426cd78-c3af-4838-ab4a-06a1a2ae1714",
   "metadata": {},
   "outputs": [
    {
     "name": "stdout",
     "output_type": "stream",
     "text": [
      "2\n",
      "1\n",
      "10\n",
      "2.0\n"
     ]
    }
   ],
   "source": [
    "print(1+1)\n",
    "print(3-2)\n",
    "print(5*2)\n",
    "print(6/3)"
   ]
  },
  {
   "cell_type": "code",
   "execution_count": 9,
   "id": "4d34a501-fef5-465b-a351-a43e3825dde6",
   "metadata": {},
   "outputs": [
    {
     "name": "stdout",
     "output_type": "stream",
     "text": [
      "8\n",
      "2\n",
      "1\n"
     ]
    }
   ],
   "source": [
    "print(2**3) # 제곱\n",
    "print(5%3) # 나머지\n",
    "print(5//3) # 몫"
   ]
  },
  {
   "cell_type": "code",
   "execution_count": 10,
   "id": "f7d73119-3b6b-4b60-a83f-fa50328bf8a4",
   "metadata": {},
   "outputs": [
    {
     "name": "stdout",
     "output_type": "stream",
     "text": [
      "True\n",
      "True\n",
      "False\n",
      "False\n"
     ]
    }
   ],
   "source": [
    "print(10 > 3)\n",
    "print(10 >= 3)\n",
    "print(10 < 3)\n",
    "print(10 <= 3)"
   ]
  },
  {
   "cell_type": "code",
   "execution_count": 11,
   "id": "93e62ceb-17f6-42c1-8b69-587a8766b63c",
   "metadata": {},
   "outputs": [
    {
     "name": "stdout",
     "output_type": "stream",
     "text": [
      "True\n",
      "True\n",
      "True\n",
      "False\n"
     ]
    }
   ],
   "source": [
    "print(3 == 3)\n",
    "print(3 + 4 == 7)\n",
    "print(4 != 2)\n",
    "print(not(1 != 3))"
   ]
  },
  {
   "cell_type": "code",
   "execution_count": 12,
   "id": "5297a9df-7a21-4782-87d2-871b1f22ea86",
   "metadata": {},
   "outputs": [
    {
     "name": "stdout",
     "output_type": "stream",
     "text": [
      "True\n",
      "True\n",
      "True\n",
      "True\n"
     ]
    }
   ],
   "source": [
    "print((3 > 0) and (3 < 5))\n",
    "print((3 > 0) & (3 < 5))\n",
    "print((3 > 0) or (3 < 5))\n",
    "print((3 > 0) | (3 < 5))"
   ]
  },
  {
   "cell_type": "markdown",
   "id": "7a1c58c6-c49b-4441-a914-eb10bb7bd6e4",
   "metadata": {
    "jp-MarkdownHeadingCollapsed": true,
    "tags": []
   },
   "source": [
    "### ***수식***"
   ]
  },
  {
   "cell_type": "code",
   "execution_count": 13,
   "id": "0bd304a4-82cf-403a-95ad-c8eca2cbd003",
   "metadata": {},
   "outputs": [
    {
     "name": "stdout",
     "output_type": "stream",
     "text": [
      "52\n"
     ]
    }
   ],
   "source": [
    "numbers = 50\n",
    "numbers += 2\n",
    "print(numbers)"
   ]
  },
  {
   "cell_type": "code",
   "execution_count": 14,
   "id": "1f76b3a8-e75b-4d0c-afc3-a025cfc248ef",
   "metadata": {},
   "outputs": [
    {
     "name": "stdout",
     "output_type": "stream",
     "text": [
      "1.0\n"
     ]
    }
   ],
   "source": [
    "numbers *= 2\n",
    "numbers -= 2\n",
    "numbers /= 2\n",
    "numbers %= 2\n",
    "print(numbers)"
   ]
  },
  {
   "cell_type": "code",
   "execution_count": 15,
   "id": "c6301760-2489-48d6-96a5-f936a28b1bc2",
   "metadata": {},
   "outputs": [
    {
     "name": "stdout",
     "output_type": "stream",
     "text": [
      "5\n",
      "16\n",
      "16\n",
      "5\n",
      "3\n",
      "5\n"
     ]
    }
   ],
   "source": [
    "print(abs(-5))\n",
    "print(pow(4,2)) # 4의 2승\n",
    "print(max(5,16))\n",
    "print(min(5,16))\n",
    "print(round(3.14))\n",
    "print(round(4.99))"
   ]
  },
  {
   "cell_type": "markdown",
   "id": "2dcb0145-341d-47ad-83a9-6b6754f48b37",
   "metadata": {
    "jp-MarkdownHeadingCollapsed": true,
    "tags": []
   },
   "source": [
    "### ***기본함수***\n",
    "> math, random"
   ]
  },
  {
   "cell_type": "code",
   "execution_count": 16,
   "id": "3fba724f-b9d0-4454-9934-c3840db0dc6e",
   "metadata": {},
   "outputs": [
    {
     "name": "stdout",
     "output_type": "stream",
     "text": [
      "4\n",
      "4\n",
      "4.0\n"
     ]
    }
   ],
   "source": [
    "from math import *\n",
    "\n",
    "print(floor(4.99))\n",
    "print(ceil(3.14))\n",
    "print(sqrt(16))"
   ]
  },
  {
   "cell_type": "code",
   "execution_count": 17,
   "id": "b882dc8f-6153-4432-8ca1-c933dcb1a5eb",
   "metadata": {},
   "outputs": [
    {
     "name": "stdout",
     "output_type": "stream",
     "text": [
      "0.42536703429765\n",
      "7.772123702719847\n",
      "7\n",
      "4\n",
      "2\n",
      "38\n"
     ]
    }
   ],
   "source": [
    "from random import *\n",
    "\n",
    "print(random()) # 0.0 이상 1.0 미만의 임의의 값 생성\n",
    "print(random() * 10) # 0.0 이상 10.0 미만의 임의의 값 생성\n",
    "print(int(random() * 10)) # 0 이상 10 미만의 임의의 값 생성\n",
    "print(int(random() * 10) + 1) # 1 이상 10 이하의 임의의 값 생성\n",
    "\n",
    "print(randrange(1, 46)) # 1 이상 46 미만의 임의의 값 생성\n",
    "\n",
    "print(randint(1, 45)) # 1 이상 45 이하의 임의의 값 생성"
   ]
  },
  {
   "cell_type": "markdown",
   "id": "f31b8c7a-1c39-4b3f-90e0-91fa4cf7b149",
   "metadata": {
    "jp-MarkdownHeadingCollapsed": true,
    "tags": []
   },
   "source": [
    "# **3) 문자열 처리 🌟**"
   ]
  },
  {
   "cell_type": "markdown",
   "id": "8c8a351c-573f-442d-8cf7-d3dfa1d8ea6b",
   "metadata": {
    "jp-MarkdownHeadingCollapsed": true,
    "tags": []
   },
   "source": [
    "### ***슬라이싱***"
   ]
  },
  {
   "cell_type": "code",
   "execution_count": 18,
   "id": "8bd39e3d-c11d-4133-9506-f303bd2fe83b",
   "metadata": {},
   "outputs": [
    {
     "name": "stdout",
     "output_type": "stream",
     "text": [
      "성별 : 1\n",
      "연 : 01\n",
      "월 : 03\n",
      "일 : 05\n",
      "생년월일 : 010305\n",
      "뒤 7자리 : 1234567\n",
      "뒤 7자리 (뒤에서부터) : 1234567\n"
     ]
    }
   ],
   "source": [
    "jumin = \"010305-1234567\"\n",
    "\n",
    "print(\"성별 :\", jumin[7])\n",
    "\n",
    "print(\"연 :\", jumin[0:2]) # 0부터 2직전까지임을 기억!!\n",
    "print(\"월 :\", jumin[2:4])\n",
    "print(\"일 :\", jumin[4:6])\n",
    "\n",
    "print(\"생년월일 :\", jumin[:6]) # 처음부터 6 직전까지!\n",
    "print(\"뒤 7자리 :\", jumin[7:]) # 7부터 끝까지!\n",
    "print(\"뒤 7자리 (뒤에서부터) :\", jumin[-7:]) # -7부터 끝까지!"
   ]
  },
  {
   "cell_type": "markdown",
   "id": "ff451ea8-981f-4b1a-94ef-5eb91896bd2e",
   "metadata": {
    "jp-MarkdownHeadingCollapsed": true,
    "tags": []
   },
   "source": [
    "### ***문자열 처리함수 🌟***\n",
    "> lower / upper / isupper / len / replace / index / find / count"
   ]
  },
  {
   "cell_type": "code",
   "execution_count": 19,
   "id": "e8b67e0f-7b68-4a97-87c5-d788e077f5f7",
   "metadata": {},
   "outputs": [
    {
     "name": "stdout",
     "output_type": "stream",
     "text": [
      "python is amazing\n",
      "PYTHON IS AMAZING\n",
      "True\n",
      "17\n",
      "Java is Amazing\n"
     ]
    }
   ],
   "source": [
    "python = \"Python is Amazing\"\n",
    "print(python.lower())\n",
    "print(python.upper())\n",
    "print(python[0].isupper())\n",
    "print(len(python))\n",
    "print(python.replace(\"Python\", \"Java\"))"
   ]
  },
  {
   "cell_type": "code",
   "execution_count": 20,
   "id": "82a457dd-ec86-4157-baef-675b49117528",
   "metadata": {},
   "outputs": [
    {
     "name": "stdout",
     "output_type": "stream",
     "text": [
      "5\n",
      "15\n"
     ]
    }
   ],
   "source": [
    "python = \"Python is Amazing\"\n",
    "\n",
    "index = python.index(\"n\") # index -> 인덱스(위치) 알려줌\n",
    "print(index)\n",
    "\n",
    "index = python.index(\"n\", index + 1) # index(\"문자\", 서치 시작위치)\n",
    "print(index) # 두번째 n의 인덱스"
   ]
  },
  {
   "cell_type": "code",
   "execution_count": 21,
   "id": "3d34e928-d62b-4be3-8350-54052da17bc6",
   "metadata": {},
   "outputs": [
    {
     "name": "stdout",
     "output_type": "stream",
     "text": [
      "-1\n"
     ]
    }
   ],
   "source": [
    "python = \"Python is Amazing\"\n",
    "\n",
    "print(python.find(\"Java\")) # 없는 값일 경우 -1\n",
    "# print(python.index(\"Java\")) # error!!"
   ]
  },
  {
   "cell_type": "code",
   "execution_count": 22,
   "id": "4ea79d97-cd8d-42ba-af7f-69b53f6a3490",
   "metadata": {},
   "outputs": [
    {
     "name": "stdout",
     "output_type": "stream",
     "text": [
      "2\n"
     ]
    }
   ],
   "source": [
    "python = \"Python is Amazing\"\n",
    "\n",
    "print(python.count(\"n\"))"
   ]
  },
  {
   "cell_type": "markdown",
   "id": "f2d89d15-7fd8-4f80-91b4-b198123e330a",
   "metadata": {
    "jp-MarkdownHeadingCollapsed": true,
    "tags": []
   },
   "source": [
    "### ***문자열 포맷***"
   ]
  },
  {
   "cell_type": "code",
   "execution_count": 23,
   "id": "ef119ea7-8fd5-4065-ae69-79a3ffd717a2",
   "metadata": {},
   "outputs": [
    {
     "name": "stdout",
     "output_type": "stream",
     "text": [
      "나는 20살입니다.\n",
      "나는 파이썬를 좋아합니다.\n",
      "Apple은 A로 시작합니다.\n"
     ]
    }
   ],
   "source": [
    "print(\"나는 %d살입니다.\" % 20)\n",
    "print(\"나는 %s를 좋아합니다.\" % \"파이썬\")\n",
    "print(\"Apple은 %c로 시작합니다.\" % \"A\") # 문자 하나!"
   ]
  },
  {
   "cell_type": "code",
   "execution_count": 24,
   "id": "4d002abf-7c94-4965-a03f-d79a06b4ec3e",
   "metadata": {},
   "outputs": [
    {
     "name": "stdout",
     "output_type": "stream",
     "text": [
      "나는 파란색과 빨간색을 좋아합니다.\n"
     ]
    }
   ],
   "source": [
    "print(\"나는 %s색과 %s색을 좋아합니다.\" % (\"파란\", \"빨간\"))"
   ]
  },
  {
   "cell_type": "code",
   "execution_count": 25,
   "id": "cd8f47f1-cebe-443c-9319-6c6af7a806c5",
   "metadata": {},
   "outputs": [
    {
     "name": "stdout",
     "output_type": "stream",
     "text": [
      "나는 20살입니다.\n",
      "나는 파란색과 빨간색을 좋아합니다.\n",
      "나는 빨간색과 파란색을 좋아합니다.\n"
     ]
    }
   ],
   "source": [
    "print(\"나는 {}살입니다.\".format(20))\n",
    "print(\"나는 {}색과 {}색을 좋아합니다.\".format(\"파란\", \"빨간\"))\n",
    "print(\"나는 {1}색과 {0}색을 좋아합니다.\".format(\"파란\", \"빨간\"))"
   ]
  },
  {
   "cell_type": "code",
   "execution_count": 26,
   "id": "60e216fd-645b-429f-aee8-274df39070e8",
   "metadata": {},
   "outputs": [
    {
     "name": "stdout",
     "output_type": "stream",
     "text": [
      "나는 20살이며, 빨간색을 좋아합니다.\n"
     ]
    }
   ],
   "source": [
    "print(\"나는 {age}살이며, {color}색을 좋아합니다.\".format(age = 20, color = \"빨간\")) "
   ]
  },
  {
   "cell_type": "markdown",
   "id": "0ef4ce29-9506-4d18-8659-4987f8e07da8",
   "metadata": {
    "tags": []
   },
   "source": [
    "#### **포맷팅 새로운 방법!!**"
   ]
  },
  {
   "cell_type": "code",
   "execution_count": 27,
   "id": "1fc77852-9d19-48ad-9abb-0a5cf7352ccf",
   "metadata": {},
   "outputs": [
    {
     "name": "stdout",
     "output_type": "stream",
     "text": [
      "나는 20살이며, 빨간색을 좋아합니다.\n"
     ]
    }
   ],
   "source": [
    "age = 20\n",
    "color = \"빨간\"\n",
    "print(f\"나는 {age}살이며, {color}색을 좋아합니다.\")"
   ]
  },
  {
   "cell_type": "markdown",
   "id": "6f4ca2f3-0a96-4eb2-802e-65883ca46e6b",
   "metadata": {
    "jp-MarkdownHeadingCollapsed": true,
    "tags": []
   },
   "source": [
    "### ***탈출문자***"
   ]
  },
  {
   "cell_type": "code",
   "execution_count": 28,
   "id": "40fe601b-8210-4fbb-ae80-08905411d3a6",
   "metadata": {},
   "outputs": [
    {
     "name": "stdout",
     "output_type": "stream",
     "text": [
      "백문이 불여인견\n",
      "백견이 불여일타\n"
     ]
    }
   ],
   "source": [
    "# \\n : 줄바꿈\n",
    "print(\"백문이 불여인견\\n백견이 불여일타\")"
   ]
  },
  {
   "cell_type": "code",
   "execution_count": 29,
   "id": "76633a4c-a660-4a01-90f5-7cbc8b087166",
   "metadata": {},
   "outputs": [
    {
     "name": "stdout",
     "output_type": "stream",
     "text": [
      "저는 \"나도코딩\"입니다.\n",
      "저는 \"나도코딩\"입니다.\n"
     ]
    }
   ],
   "source": [
    "# \\\" \\' \" 문장 내 따움표\n",
    "print(\"저는 \\\"나도코딩\\\"입니다.\")\n",
    "print('저는 \"나도코딩\"입니다.')"
   ]
  },
  {
   "cell_type": "code",
   "execution_count": 30,
   "id": "06fbb0de-35c7-4c3a-9a45-e636d1cad3b7",
   "metadata": {},
   "outputs": [
    {
     "name": "stdout",
     "output_type": "stream",
     "text": [
      "저는 \\나도코딩입니다.\n"
     ]
    }
   ],
   "source": [
    "# \\\\ \" 문장 내 역슬래시\n",
    "print(\"저는 \\\\나도코딩입니다.\")"
   ]
  },
  {
   "cell_type": "code",
   "execution_count": 31,
   "id": "0f83b166-3002-4fac-9076-6d989b24f7f9",
   "metadata": {},
   "outputs": [
    {
     "name": "stdout",
     "output_type": "stream",
     "text": [
      "PineApple\n"
     ]
    }
   ],
   "source": [
    "# \\r : 커서를 맨 앞으로 이동\n",
    "print(\"Red Apple\\rPine\")"
   ]
  },
  {
   "cell_type": "code",
   "execution_count": 32,
   "id": "a1945e8f-c98a-4160-a8d2-a0e7d06c608f",
   "metadata": {},
   "outputs": [
    {
     "name": "stdout",
     "output_type": "stream",
     "text": [
      "RedApple\n"
     ]
    }
   ],
   "source": [
    "# \\b : 백스페이스 (한 글자 삭제)\n",
    "print(\"Redd\\bApple\")"
   ]
  },
  {
   "cell_type": "code",
   "execution_count": 33,
   "id": "b9b6653c-c632-4e2e-aa48-73d857a5bc8e",
   "metadata": {},
   "outputs": [
    {
     "name": "stdout",
     "output_type": "stream",
     "text": [
      "Red\tApple\n"
     ]
    }
   ],
   "source": [
    "# \\t : 탭\n",
    "print(\"Red\\tApple\")"
   ]
  },
  {
   "cell_type": "markdown",
   "id": "b741effd-999a-40f5-9e6c-52e9579c3034",
   "metadata": {
    "jp-MarkdownHeadingCollapsed": true,
    "tags": []
   },
   "source": [
    "# **4) 자료구조 🌟🌟🌟**\n",
    "> list / dictionary / tuple / set"
   ]
  },
  {
   "cell_type": "markdown",
   "id": "a9e9b279-7d10-4d1e-b5c3-16d70cba6089",
   "metadata": {
    "jp-MarkdownHeadingCollapsed": true,
    "tags": []
   },
   "source": [
    "### ***리스트 [ ]***\n",
    "> append / insert / pop / count / sort / reverse / clear / extend"
   ]
  },
  {
   "cell_type": "code",
   "execution_count": 34,
   "id": "ea326ce1-8ed1-464b-8429-eb759e2eebc5",
   "metadata": {},
   "outputs": [
    {
     "name": "stdout",
     "output_type": "stream",
     "text": [
      "[10, 20, 30]\n"
     ]
    }
   ],
   "source": [
    "# 지하철 칸별로 10명, 20명, 30명\n",
    "# subway1 = 10\n",
    "# subway2 = 20\n",
    "# subway3 = 30\n",
    "\n",
    "subway = [10,20,30]\n",
    "print(subway)"
   ]
  },
  {
   "cell_type": "code",
   "execution_count": 35,
   "id": "aa999842-ec02-4574-9096-f96198fcb649",
   "metadata": {},
   "outputs": [
    {
     "name": "stdout",
     "output_type": "stream",
     "text": [
      "['유재석', '조세호', '박명수']\n",
      "1\n",
      "['유재석', '조세호', '박명수', '하하']\n",
      "['유재석', '정형돈', '조세호', '박명수', '하하']\n",
      "하하\n",
      "['유재석', '정형돈', '조세호', '박명수']\n",
      "['유재석', '정형돈', '조세호', '박명수', '유재석']\n",
      "2\n"
     ]
    }
   ],
   "source": [
    "subway = [\"유재석\", \"조세호\", \"박명수\"]\n",
    "print(subway)\n",
    "\n",
    "# 조세호씨가 몇 번째 칸에 타고 있는가?\n",
    "print(subway.index(\"조세호\"))\n",
    "\n",
    "# 하하씨가 다음 정류장에서 다음 칸에 탐\n",
    "subway.append(\"하하\")\n",
    "print(subway)\n",
    "\n",
    "# 정형돈씨를 유재석 / 조세호 사이에 태워봄\n",
    "subway.insert(1, \"정형돈\")\n",
    "print(subway)\n",
    "\n",
    "# 지하철에 있는 사람을 한 명씩 뒤에서 꺼냄\n",
    "print(subway.pop())\n",
    "print(subway)\n",
    "\n",
    "# 같은 이름의 사람이 몇 명 있는지 확인\n",
    "subway.append(\"유재석\")\n",
    "print(subway)\n",
    "print(subway.count(\"유재석\"))"
   ]
  },
  {
   "cell_type": "code",
   "execution_count": 36,
   "id": "a93dfb04-3c9f-4941-8436-b3deb5d316e4",
   "metadata": {},
   "outputs": [
    {
     "name": "stdout",
     "output_type": "stream",
     "text": [
      "[1, 2, 3, 4, 5]\n",
      "[5, 4, 3, 2, 1]\n",
      "[]\n"
     ]
    }
   ],
   "source": [
    "num_list = [5,2,4,3,1]\n",
    "\n",
    "# 정렬도 가능\n",
    "num_list.sort()\n",
    "print(num_list)\n",
    "\n",
    "# 순서 뒤집기도 가능\n",
    "num_list.reverse()\n",
    "print(num_list)\n",
    "\n",
    "# 모두 지우기\n",
    "num_list.clear()\n",
    "print(num_list)"
   ]
  },
  {
   "cell_type": "code",
   "execution_count": 37,
   "id": "2e4706be-578e-4e07-ac17-758091a0fc74",
   "metadata": {},
   "outputs": [
    {
     "name": "stdout",
     "output_type": "stream",
     "text": [
      "['조세호', 20, True]\n",
      "[5, 2, 4, 3, 1, '조세호', 20, True]\n"
     ]
    }
   ],
   "source": [
    "# 다양한 자료형을 함께 사용 가능!\n",
    "mix_list = [\"조세호\", 20, True]\n",
    "print(mix_list)\n",
    "\n",
    "# 리스트 확장\n",
    "num_list = [5,2,4,3,1]\n",
    "num_list.extend(mix_list)\n",
    "print(num_list)"
   ]
  },
  {
   "cell_type": "markdown",
   "id": "407c2814-8f98-4760-ab21-f26593bc9d10",
   "metadata": {
    "jp-MarkdownHeadingCollapsed": true,
    "tags": []
   },
   "source": [
    "### ***사전 { }***\n",
    "> dict = {key1 : value1, key2: value2}\n",
    "\n",
    "> get / in / keys / values / items / clear"
   ]
  },
  {
   "cell_type": "code",
   "execution_count": 38,
   "id": "ffbda7bb-4efa-45c2-9f01-003fde7f466d",
   "metadata": {},
   "outputs": [
    {
     "name": "stdout",
     "output_type": "stream",
     "text": [
      "유재석\n",
      "김태호\n",
      "유재석\n",
      "None\n",
      "사용 가능\n",
      "True\n",
      "False\n"
     ]
    }
   ],
   "source": [
    "cabinet = {3: \"유재석\", 100: \"김태호\"}\n",
    "print(cabinet[3])\n",
    "print(cabinet[100])\n",
    "# print(cabinet[5]) # 없는 값일 경우 오류!!\n",
    "\n",
    "print(cabinet.get(3))\n",
    "print(cabinet.get(5)) # None 출력\n",
    "\n",
    "print(cabinet.get(5, \"사용 가능\")) # None값 대신 사용 가능 출력!!\n",
    "\n",
    "print(3 in cabinet) # True\n",
    "print(5 in cabinet) # False"
   ]
  },
  {
   "cell_type": "code",
   "execution_count": 39,
   "id": "070754c7-c908-48b1-9c27-bcf1890c6e75",
   "metadata": {},
   "outputs": [
    {
     "name": "stdout",
     "output_type": "stream",
     "text": [
      "유재석\n",
      "김태호\n",
      "{'A-3': '유재석', 'B-100': '김태호'}\n",
      "{'A-3': '김종국', 'B-100': '김태호', 'C-20': '조세호'}\n",
      "{'B-100': '김태호', 'C-20': '조세호'}\n",
      "dict_keys(['B-100', 'C-20'])\n",
      "dict_values(['김태호', '조세호'])\n",
      "dict_items([('B-100', '김태호'), ('C-20', '조세호')])\n",
      "{}\n"
     ]
    }
   ],
   "source": [
    "cabinet = {\"A-3\": \"유재석\", \"B-100\": \"김태호\"}\n",
    "print(cabinet[\"A-3\"])\n",
    "print(cabinet[\"B-100\"])\n",
    "print(cabinet)\n",
    "\n",
    "# 새 손님\n",
    "cabinet[\"A-3\"] = \"김종국\"\n",
    "cabinet[\"C-20\"] = \"조세호\"\n",
    "print(cabinet)\n",
    "\n",
    "# 간 손님\n",
    "del cabinet[\"A-3\"]\n",
    "print(cabinet)\n",
    "\n",
    "# key들만 출력\n",
    "print(cabinet.keys())\n",
    "\n",
    "# value들만 출력\n",
    "print(cabinet.values())\n",
    "\n",
    "# key, value 쌍으로 출력\n",
    "print(cabinet.items())\n",
    "\n",
    "# 목욕탕 폐점\n",
    "cabinet.clear()\n",
    "print(cabinet)"
   ]
  },
  {
   "cell_type": "markdown",
   "id": "cc0eb113-e729-4da0-89f6-b49dbd1fc6eb",
   "metadata": {
    "jp-MarkdownHeadingCollapsed": true,
    "tags": []
   },
   "source": [
    "### ***튜플 ( )***\n",
    "> 값의 추가나 변경이 불가하고 고정된 값에 대해서만 사용!\n"
   ]
  },
  {
   "cell_type": "code",
   "execution_count": 40,
   "id": "6d5291ab-b24d-48a5-b029-b2f72fa2747e",
   "metadata": {},
   "outputs": [
    {
     "name": "stdout",
     "output_type": "stream",
     "text": [
      "돈까스\n",
      "치즈까스\n"
     ]
    }
   ],
   "source": [
    "menu = (\"돈까스\", \"치즈까스\")\n",
    "print(menu[0])\n",
    "print(menu[1])\n",
    "# menu.add(\"생선까스\") # 추가, 변경 불가!"
   ]
  },
  {
   "cell_type": "code",
   "execution_count": 41,
   "id": "fa4faf80-b3eb-4617-8a87-d879fb117ecb",
   "metadata": {},
   "outputs": [
    {
     "name": "stdout",
     "output_type": "stream",
     "text": [
      "김종국 20 코딩\n",
      "김종국 20 코딩\n",
      "('김종국', 20, '코딩')\n",
      "김종국\n"
     ]
    }
   ],
   "source": [
    "name = \"김종국\"\n",
    "age = 20\n",
    "hobby = \"코딩\"\n",
    "print(name, age, hobby)\n",
    "\n",
    "(name, age, hobby) = (\"김종국\", 20, \"코딩\")\n",
    "print(name, age, hobby)\n",
    "\n",
    "info = (\"김종국\", 20, \"코딩\")\n",
    "print(info)\n",
    "print(info[0])"
   ]
  },
  {
   "cell_type": "markdown",
   "id": "06aa8a26-e77f-4480-8856-f355ed686403",
   "metadata": {
    "jp-MarkdownHeadingCollapsed": true,
    "tags": []
   },
   "source": [
    "### ***집합 (set) { } or set([ ])***\n",
    "> 중복 안됨, 순서 없음\n",
    "> & (intersection) / | (union) / - (difference) / add / remove"
   ]
  },
  {
   "cell_type": "code",
   "execution_count": 42,
   "id": "a110cbaf-6c33-47e8-a45d-568ab439026f",
   "metadata": {},
   "outputs": [
    {
     "name": "stdout",
     "output_type": "stream",
     "text": [
      "{1, 2, 3}\n"
     ]
    }
   ],
   "source": [
    "my_set = {1,2,3,3,3}\n",
    "print(my_set) # {1, 2, 3}"
   ]
  },
  {
   "cell_type": "code",
   "execution_count": 43,
   "id": "5a7eec2d-5afb-4e9d-83ac-bcb0498d5820",
   "metadata": {},
   "outputs": [
    {
     "name": "stdout",
     "output_type": "stream",
     "text": [
      "{'유재석'}\n",
      "{'유재석'}\n",
      "{'박명수', '김태호', '유재석', '양세형'}\n",
      "{'박명수', '김태호', '유재석', '양세형'}\n",
      "{'김태호', '양세형'}\n",
      "{'김태호', '양세형'}\n",
      "{'박명수', '김태호', '유재석'}\n",
      "{'유재석', '양세형'}\n"
     ]
    }
   ],
   "source": [
    "java = {\"유재석\", \"김태호\", \"양세형\"}\n",
    "python = set([\"유재석\", \"박명수\"])\n",
    "\n",
    "# 교집합 (java와 python을 모두 할 수 있는 개발자)\n",
    "print(java & python)\n",
    "print(java.intersection(python))\n",
    "\n",
    "# 합집합 (java나 python을 할 수 있는 개발자)\n",
    "print(java | python)\n",
    "print(java.union(python))\n",
    "\n",
    "# 차집합 (java는 할 수 있지만 python은 할 줄 모르는 개발자)\n",
    "print(java - python)\n",
    "print(java.difference(python))\n",
    "\n",
    "# python을 할 줄 아는 사람이 늘어남\n",
    "python.add(\"김태호\")\n",
    "print(python)\n",
    "\n",
    "# java를 잊었어요\n",
    "java.remove(\"김태호\")\n",
    "print(java)"
   ]
  },
  {
   "cell_type": "markdown",
   "id": "4b125dc5-f7a7-4f13-984a-198b9b8d628d",
   "metadata": {
    "jp-MarkdownHeadingCollapsed": true,
    "tags": []
   },
   "source": [
    "### ***자료구조의 변경***"
   ]
  },
  {
   "cell_type": "code",
   "execution_count": 45,
   "id": "9f1a5ee3-ff34-4513-ad43-0e1045ede331",
   "metadata": {},
   "outputs": [
    {
     "name": "stdout",
     "output_type": "stream",
     "text": [
      "{'주스', '커피', '우유'} <class 'set'>\n",
      "['주스', '커피', '우유'] <class 'list'>\n",
      "('주스', '커피', '우유') <class 'tuple'>\n",
      "{'커피', '주스', '우유'} <class 'set'>\n"
     ]
    }
   ],
   "source": [
    "# 커피숍\n",
    "menu = {\"커피\", \"우유\", \"주스\"}\n",
    "print(menu, type(menu))\n",
    "\n",
    "menu = list(menu)\n",
    "print(menu, type(menu))\n",
    "\n",
    "menu = tuple(menu)\n",
    "print(menu, type(menu))\n",
    "\n",
    "menu = set(menu)\n",
    "print(menu, type(menu))"
   ]
  },
  {
   "cell_type": "markdown",
   "id": "21ccaa7a-5a7a-4560-914e-3bb95de63e2d",
   "metadata": {
    "jp-MarkdownHeadingCollapsed": true,
    "tags": []
   },
   "source": [
    "# **5) 제어문 🌟🌟**"
   ]
  },
  {
   "cell_type": "markdown",
   "id": "161fd4ef-e644-49aa-94ff-28d183b623b9",
   "metadata": {
    "jp-MarkdownHeadingCollapsed": true,
    "tags": []
   },
   "source": [
    "### ***if문***"
   ]
  },
  {
   "cell_type": "code",
   "execution_count": 52,
   "id": "30390b5d-5058-4503-b805-cb32cb6ab068",
   "metadata": {},
   "outputs": [
    {
     "name": "stdin",
     "output_type": "stream",
     "text": [
      "오늘 날씨는 어때요? 눈\n"
     ]
    },
    {
     "name": "stdout",
     "output_type": "stream",
     "text": [
      "우산을 챙기세요\n"
     ]
    }
   ],
   "source": [
    "weather = input(\"오늘 날씨는 어때요?\")\n",
    "\n",
    "if weather == \"비\" or weather == \"눈\":\n",
    "    print(\"우산을 챙기세요\")\n",
    "elif weather == \"미세먼지\":\n",
    "    print(\"마스크를 챙기세요\")\n",
    "else:\n",
    "    print(\"준비물 필요 없어요.\")"
   ]
  },
  {
   "cell_type": "code",
   "execution_count": 56,
   "id": "21125bd9-e975-46a1-a5db-0d0a688685d4",
   "metadata": {},
   "outputs": [
    {
     "name": "stdin",
     "output_type": "stream",
     "text": [
      "기온은 어때요? -19\n"
     ]
    },
    {
     "name": "stdout",
     "output_type": "stream",
     "text": [
      "너무 추워요. 나가지 마세요\n"
     ]
    }
   ],
   "source": [
    "temp = int(input(\"기온은 어때요?\"))\n",
    "\n",
    "if temp >= 30:\n",
    "    print(\"너무 더워요. 나가지 마세요\")\n",
    "elif 10 <= temp < 30:\n",
    "    print(\"괜찮은 날씨예요\")\n",
    "elif 0 <= temp < 10:\n",
    "    print(\"외투를 챙기세요\")\n",
    "else:\n",
    "    print(\"너무 추워요. 나가지 마세요\")"
   ]
  },
  {
   "cell_type": "markdown",
   "id": "684cb292-139b-4272-b170-63f10d9937c4",
   "metadata": {
    "jp-MarkdownHeadingCollapsed": true,
    "tags": []
   },
   "source": [
    "### ***for문 🌟🌟***"
   ]
  },
  {
   "cell_type": "code",
   "execution_count": 61,
   "id": "768f5970-61a9-4bf5-97a5-c94d95119983",
   "metadata": {},
   "outputs": [
    {
     "name": "stdout",
     "output_type": "stream",
     "text": [
      "대기번호 : 0\n",
      "대기번호 : 1\n",
      "대기번호 : 2\n",
      "대기번호 : 3\n",
      "대기번호 : 4\n",
      "대기번호 : 0\n",
      "대기번호 : 1\n",
      "대기번호 : 2\n",
      "대기번호 : 3\n",
      "대기번호 : 4\n",
      "대기번호 : 1\n",
      "대기번호 : 2\n",
      "대기번호 : 3\n",
      "대기번호 : 4\n",
      "대기번호 : 5\n"
     ]
    }
   ],
   "source": [
    "for waiting_num in [0,1,2,3,4]:\n",
    "    print(\"대기번호 : {0}\".format(waiting_num))\n",
    "    \n",
    "for waiting_num in range(5): # 0,1,2,3,4\n",
    "    print(\"대기번호 : {0}\".format(waiting_num))\n",
    "    \n",
    "for waiting_num in range(1,6): # 1,2,3,4,5\n",
    "    print(\"대기번호 : {0}\".format(waiting_num))"
   ]
  },
  {
   "cell_type": "code",
   "execution_count": 63,
   "id": "023e522e-5fe5-428f-a22f-d6ed4d5ea2c3",
   "metadata": {},
   "outputs": [
    {
     "name": "stdout",
     "output_type": "stream",
     "text": [
      "아이언맨, 커피가 준비되었습니다.\n",
      "토르, 커피가 준비되었습니다.\n",
      "아이엠 그루트, 커피가 준비되었습니다.\n"
     ]
    }
   ],
   "source": [
    "starbucks = [\"아이언맨\", \"토르\", \"아이엠 그루트\"]\n",
    "\n",
    "for customer in starbucks: # list 내 값이 하나씩 customer에 들어감\n",
    "    print(\"{0}, 커피가 준비되었습니다.\".format(customer))"
   ]
  },
  {
   "cell_type": "markdown",
   "id": "eed1c591-73ee-466a-bbf1-9fadcc4f4811",
   "metadata": {},
   "source": [
    "#### **주의) 리스트 안 for문**"
   ]
  },
  {
   "cell_type": "code",
   "execution_count": 81,
   "id": "81ac0edf-bec2-4159-96e2-0a9fc159dfbf",
   "metadata": {},
   "outputs": [
    {
     "name": "stdout",
     "output_type": "stream",
     "text": [
      "[1, 2, 3, 4, 5]\n",
      "[101, 102, 103, 104, 105]\n"
     ]
    }
   ],
   "source": [
    "# 출석번호가 1 2 3 4, 앞에 100을 붙이기로 함 -> 101 102 103 104\n",
    "students = [1,2,3,4,5]\n",
    "print(students)\n",
    "\n",
    "students = [i+100 for i in students] # i에 100을 더한 값을 리스트에\n",
    "print(students)"
   ]
  },
  {
   "cell_type": "code",
   "execution_count": 84,
   "id": "a6381298-5e78-4120-9b74-76fc28bf459d",
   "metadata": {},
   "outputs": [
    {
     "name": "stdout",
     "output_type": "stream",
     "text": [
      "['Iron man', 'Thor', 'I am groot']\n",
      "[8, 4, 10]\n"
     ]
    }
   ],
   "source": [
    "# 학생 이름을 길이로 변환\n",
    "students = [\"Iron man\", \"Thor\", \"I am groot\"]\n",
    "print(students)\n",
    "\n",
    "students = [len(i) for i in students] # len(i) 값을 리스트에\n",
    "print(students)"
   ]
  },
  {
   "cell_type": "code",
   "execution_count": 86,
   "id": "8ee9fea1-e34f-465f-b1fe-086b89ae685b",
   "metadata": {},
   "outputs": [
    {
     "name": "stdout",
     "output_type": "stream",
     "text": [
      "['Iron man', 'Thor', 'I am groot']\n",
      "['IRON MAN', 'THOR', 'I AM GROOT']\n"
     ]
    }
   ],
   "source": [
    "# 학생 이름을 대문자로 변환\n",
    "students = [\"Iron man\", \"Thor\", \"I am groot\"]\n",
    "print(students)\n",
    "\n",
    "students = [i.upper() for i in students] # len(i) 값을 리스트에\n",
    "print(students)"
   ]
  },
  {
   "cell_type": "markdown",
   "id": "2ea8c886-5dbd-4ebc-997a-e9a18be64e2b",
   "metadata": {
    "jp-MarkdownHeadingCollapsed": true,
    "tags": []
   },
   "source": [
    "### ***while문***"
   ]
  },
  {
   "cell_type": "code",
   "execution_count": 65,
   "id": "066660f1-2f23-4bb9-99a7-dd4e3a10a890",
   "metadata": {},
   "outputs": [
    {
     "name": "stdout",
     "output_type": "stream",
     "text": [
      "토르, 커피가 준비 되었습니다. 5번 남았어요.\n",
      "토르, 커피가 준비 되었습니다. 4번 남았어요.\n",
      "토르, 커피가 준비 되었습니다. 3번 남았어요.\n",
      "토르, 커피가 준비 되었습니다. 2번 남았어요.\n",
      "토르, 커피가 준비 되었습니다. 1번 남았어요.\n",
      "커피는 폐기 처분되었습니다.\n"
     ]
    }
   ],
   "source": [
    "customer = \"토르\"\n",
    "index = 5\n",
    "\n",
    "while index >= 1:\n",
    "    print(\"{0}, 커피가 준비 되었습니다. {1}번 남았어요.\".format(customer, index))\n",
    "    index -= 1\n",
    "    if index == 0:\n",
    "           print(\"커피는 폐기 처분되었습니다.\")"
   ]
  },
  {
   "cell_type": "code",
   "execution_count": 71,
   "id": "597c0486-08e0-43ff-a2ce-3ccff0e8a85a",
   "metadata": {},
   "outputs": [],
   "source": [
    "# customer = \"아이언맨\"\n",
    "# index = 1\n",
    "\n",
    "# while True:\n",
    "#     print(\"{0}, 커피가 준비 되었습니다. 호출 {1}회\".format(customer, index))\n",
    "#     index += 1 # 무한 루프!! Ctrl+c 눌러 강제종료!!"
   ]
  },
  {
   "cell_type": "code",
   "execution_count": 74,
   "id": "15d4c1ae-c0d0-49d5-981c-a66e4857432c",
   "metadata": {},
   "outputs": [
    {
     "name": "stdout",
     "output_type": "stream",
     "text": [
      "토르, 커피가 준비 되었습니다.\n"
     ]
    },
    {
     "name": "stdin",
     "output_type": "stream",
     "text": [
      "이름이 어떻게 되세요? 아이언맨\n"
     ]
    },
    {
     "name": "stdout",
     "output_type": "stream",
     "text": [
      "토르, 커피가 준비 되었습니다.\n"
     ]
    },
    {
     "name": "stdin",
     "output_type": "stream",
     "text": [
      "이름이 어떻게 되세요? 토르\n"
     ]
    }
   ],
   "source": [
    "customer = \"토르\"\n",
    "person = \"Unknown\"\n",
    "\n",
    "while person != customer:\n",
    "    print(\"{0}, 커피가 준비 되었습니다.\".format(customer))\n",
    "    person = input(\"이름이 어떻게 되세요?\")"
   ]
  },
  {
   "cell_type": "markdown",
   "id": "503c6ea9-2109-4dfa-90d8-1bd57d876ec6",
   "metadata": {
    "jp-MarkdownHeadingCollapsed": true,
    "tags": []
   },
   "source": [
    "### ***continue 🌟***\n",
    "> 이후 문장을 실행 않고 다음 반복문으로 넘어감\n",
    "### ***break 🌟***\n",
    "> 이후 문장을 실행 않고 반복문을 끝냄"
   ]
  },
  {
   "cell_type": "code",
   "execution_count": 78,
   "id": "aa128804-9a0c-4a90-8895-2565b84cf04a",
   "metadata": {},
   "outputs": [
    {
     "name": "stdout",
     "output_type": "stream",
     "text": [
      "1, 책을 읽어봐\n",
      "3, 책을 읽어봐\n",
      "4, 책을 읽어봐\n",
      "6, 책을 읽어봐\n",
      "오늘 수업 여기까지. 7는 교무실로 따라와.\n"
     ]
    }
   ],
   "source": [
    "absent = [2,5] # 결석\n",
    "no_book = [7] # 책을 깜빡함\n",
    "\n",
    "for student in range(1,11): # 1부터 10번까지\n",
    "    if student in absent: # 리스트 안에 포함되어있다면\n",
    "        continue\n",
    "    elif student in no_book:\n",
    "        print(\"오늘 수업 여기까지. {0}는 교무실로 따라와.\".format(student))\n",
    "        break\n",
    "    print(\"{0}, 책을 읽어봐\".format(student))"
   ]
  },
  {
   "cell_type": "markdown",
   "id": "2465bb30-3b21-45bf-8966-fae25dc73745",
   "metadata": {
    "jp-MarkdownHeadingCollapsed": true,
    "tags": []
   },
   "source": [
    "# **6) 함수 🌟🌟**"
   ]
  },
  {
   "cell_type": "markdown",
   "id": "558d87af-b81f-49b0-b738-e75bd5ca74cf",
   "metadata": {
    "jp-MarkdownHeadingCollapsed": true,
    "tags": []
   },
   "source": [
    "### ***기본 함수***"
   ]
  },
  {
   "cell_type": "code",
   "execution_count": 91,
   "id": "8af0501d-197d-49c4-bba1-23894172e462",
   "metadata": {},
   "outputs": [
    {
     "name": "stdout",
     "output_type": "stream",
     "text": [
      "새로운 계좌가 생성되었습니다.\n"
     ]
    }
   ],
   "source": [
    "def open_account():\n",
    "    print(\"새로운 계좌가 생성되었습니다.\")\n",
    "    \n",
    "open_account()"
   ]
  },
  {
   "cell_type": "code",
   "execution_count": 98,
   "id": "aa12ce91-ef83-4b64-8a25-8e83277cd35f",
   "metadata": {},
   "outputs": [
    {
     "name": "stdout",
     "output_type": "stream",
     "text": [
      "입금이 완료되었습니다. 잔액은 1000원입니다.\n",
      "1000\n"
     ]
    }
   ],
   "source": [
    "# 입금\n",
    "def deposit(balance, money):\n",
    "    print(\"입금이 완료되었습니다. 잔액은 {0}원입니다.\".format(balance + money))\n",
    "    return balance + money # 반환!!\n",
    "\n",
    "balance = 0 # 잔액\n",
    "balance = deposit(balance, 1000) # return으로 인해 변수 값 이입가능\n",
    "print(balance)"
   ]
  },
  {
   "cell_type": "code",
   "execution_count": 102,
   "id": "2429d284-0bbd-4c8d-aa3f-5d555bdafc66",
   "metadata": {},
   "outputs": [
    {
     "name": "stdout",
     "output_type": "stream",
     "text": [
      "입금이 완료되었습니다. 잔액은 1000원입니다.\n",
      "출금이 완료되지 않았습니다. 잔액은 1000원입니다.\n",
      "출금이 완료되었습니다. 잔액은 500원입니다.\n"
     ]
    }
   ],
   "source": [
    "# 출금\n",
    "def withdraw(balance, money):\n",
    "    if balance >= money:\n",
    "        print(\"출금이 완료되었습니다. 잔액은 {0}원입니다.\".format(balance - money))\n",
    "        return balance - money\n",
    "    else:\n",
    "        print(\"출금이 완료되지 않았습니다. 잔액은 {0}원입니다.\".format(balance))\n",
    "        return balance\n",
    "\n",
    "balance = 0 # 잔액\n",
    "balance = deposit(balance, 1000)\n",
    "balance = withdraw(balance, 2000)\n",
    "balance = withdraw(balance, 500)"
   ]
  },
  {
   "cell_type": "code",
   "execution_count": 107,
   "id": "62bf2b89-582b-4ca5-993e-db76222f8541",
   "metadata": {},
   "outputs": [
    {
     "name": "stdout",
     "output_type": "stream",
     "text": [
      "입금이 완료되었습니다. 잔액은 1000원입니다.\n",
      "수수료는 100원이며, 잔액은 400원입니다.\n",
      "수수료는 100원이며, 잔액은 400원입니다.\n"
     ]
    }
   ],
   "source": [
    "# 저녁에 출금\n",
    "def withdraw_night(balance, money):\n",
    "    commission = 100 # 수수료 100원\n",
    "    print(\"수수료는 {0}원이며, 잔액은 {1}원입니다.\".format(commission, balance - money - commission))\n",
    "    return commission, balance - money - commission # 튜플 형식으로 여러 값 반환!!\n",
    "\n",
    "balance = 0 # 잔액\n",
    "balance = deposit(balance, 1000)\n",
    "commission, balance = withdraw_night(balance, 500)\n",
    "\n",
    "# print(\"수수료는 {0}원이며, 잔액은 {1}원입니다.\".format(commission, balance))"
   ]
  },
  {
   "cell_type": "markdown",
   "id": "00ee9edf-fc06-4244-bf0d-939f0695a8f2",
   "metadata": {
    "jp-MarkdownHeadingCollapsed": true,
    "tags": []
   },
   "source": [
    "### ***기본값***"
   ]
  },
  {
   "cell_type": "code",
   "execution_count": 113,
   "id": "aab38f1b-5bfc-4b6e-b1ce-396be0a77041",
   "metadata": {},
   "outputs": [
    {
     "name": "stdout",
     "output_type": "stream",
     "text": [
      "이름: 유재석\t나이: 20\t\t주 사용 언어: 파이썬\n",
      "이름: 김태호\t나이: 25\t\t주 사용 언어: 자바\n"
     ]
    }
   ],
   "source": [
    "def profile(name, age, main_lang):\n",
    "    print(\"이름: {0}\\t나이: {1}\\t\\t주 사용 언어: {2}\" \\\n",
    "          .format(name, age, main_lang))\n",
    "\n",
    "profile(\"유재석\", 20, \"파이썬\")\n",
    "profile(\"김태호\", 25, \"자바\")"
   ]
  },
  {
   "cell_type": "code",
   "execution_count": 114,
   "id": "6a35d652-4db5-452f-b71e-50b435023911",
   "metadata": {},
   "outputs": [
    {
     "name": "stdout",
     "output_type": "stream",
     "text": [
      "이름: 유재석\t나이: 17\t\t주 사용 언어: 파이썬\n",
      "이름: 김태호\t나이: 17\t\t주 사용 언어: 파이썬\n"
     ]
    }
   ],
   "source": [
    "# 같은 학교 같은 학년 같은 반 같은 수업!\n",
    "# 기본값\n",
    "def profile(name, age = 17, main_lang = \"파이썬\"):\n",
    "    print(\"이름: {0}\\t나이: {1}\\t\\t주 사용 언어: {2}\" \\\n",
    "          .format(name, age, main_lang))\n",
    "\n",
    "profile(\"유재석\")\n",
    "profile(\"김태호\")\n",
    "# 이외의 값 넣어주지 않아도 됨!"
   ]
  },
  {
   "cell_type": "markdown",
   "id": "3c7ea250-1b74-482e-b712-0bd1efcac96f",
   "metadata": {
    "jp-MarkdownHeadingCollapsed": true,
    "tags": []
   },
   "source": [
    "### ***키워드값***"
   ]
  },
  {
   "cell_type": "code",
   "execution_count": 116,
   "id": "938001fb-d6cd-4ea7-aef5-16de8aa41836",
   "metadata": {},
   "outputs": [
    {
     "name": "stdout",
     "output_type": "stream",
     "text": [
      "유재석 20 파이썬\n",
      "김태호 25 자바\n"
     ]
    }
   ],
   "source": [
    "def profile(name, age, main_lang):\n",
    "    print(name, age, main_lang)\n",
    "    \n",
    "profile(name = \"유재석\", main_lang = \"파이썬\", age = 20)\n",
    "profile(main_lang = \"자바\", age = 25, name = \"김태호\")"
   ]
  },
  {
   "cell_type": "markdown",
   "id": "79be40f9-0ead-454d-bdc3-d766d84cdbb5",
   "metadata": {
    "jp-MarkdownHeadingCollapsed": true,
    "tags": []
   },
   "source": [
    "### ***가변인자 🌟***"
   ]
  },
  {
   "cell_type": "code",
   "execution_count": 119,
   "id": "47da8844-68a7-41cf-972f-dedd3b222e26",
   "metadata": {},
   "outputs": [
    {
     "name": "stdout",
     "output_type": "stream",
     "text": [
      "이름: 유재석\t나이: 20\t\t Python Java C C++\n",
      "이름: 김태호\t나이: 25\t\t Kotlin Swift  \n"
     ]
    }
   ],
   "source": [
    "def profile(name, age, lang1, lang2, lang3, lang4, lang5):\n",
    "    print(\"이름: {0}\\t나이: {1}\\t\\t\".format(name, age), end = \" \") # 줄바꿈 없이 띄어쓰기 한 칸만!\n",
    "    print(lang1, lang2, lang3, lang4)\n",
    "\n",
    "profile(\"유재석\", 20, \"Python\", \"Java\", \"C\", \"C++\", \"C#\")\n",
    "profile(\"김태호\", 25, \"Kotlin\", \"Swift\", \"\", \"\", \"\")"
   ]
  },
  {
   "cell_type": "markdown",
   "id": "a8e8ad1d-70df-48e9-b2be-61768c496eea",
   "metadata": {},
   "source": [
    "#### **\\*을 이용해 넣고 싶은 만큼 인자를 받을 수 있음! 🌟**"
   ]
  },
  {
   "cell_type": "code",
   "execution_count": 120,
   "id": "350ae92c-1c1c-487c-8fe6-464dc635ba6f",
   "metadata": {},
   "outputs": [
    {
     "name": "stdout",
     "output_type": "stream",
     "text": [
      "이름: 유재석\t나이: 20\t\t Python Java C C++ C# \n",
      "이름: 김태호\t나이: 25\t\t Kotlin Swift    \n"
     ]
    }
   ],
   "source": [
    "def profile(name, age, *language):\n",
    "    print(\"이름: {0}\\t나이: {1}\\t\\t\".format(name, age), end = \" \") # 줄바꿈 없이 띄어쓰기 한 칸만!\n",
    "    for lang in language:\n",
    "        print(lang, end = \" \") # 줄바꿈 않기\n",
    "    print() # 줄바꿈하기\n",
    "\n",
    "profile(\"유재석\", 20, \"Python\", \"Java\", \"C\", \"C++\", \"C#\")\n",
    "profile(\"김태호\", 25, \"Kotlin\", \"Swift\", \"\", \"\", \"\")    "
   ]
  },
  {
   "cell_type": "markdown",
   "id": "75d2c7dd-b594-4ff5-b4dc-54cbcd96f411",
   "metadata": {
    "jp-MarkdownHeadingCollapsed": true,
    "tags": []
   },
   "source": [
    "### ***지역변수와 전역변수***"
   ]
  },
  {
   "cell_type": "markdown",
   "id": "12700b44-d5a5-44f8-b687-f08f76ce71b8",
   "metadata": {
    "tags": []
   },
   "source": [
    "#### **지역변수: 변수가 함수 내외에서 따로 작용!!**"
   ]
  },
  {
   "cell_type": "code",
   "execution_count": 123,
   "id": "0f75d8e4-10f5-4414-957b-2006f538aee7",
   "metadata": {},
   "outputs": [],
   "source": [
    "# gun = 10\n",
    "\n",
    "# def checkpoint(soldiers): # 경계근무\n",
    "#     gun -= soldiers\n",
    "#     print(\"[함수 내] 남은 총: {0}\".format(gun))\n",
    "    \n",
    "# print(\"전체 총: {0}\".format(gun))\n",
    "# checkpoint(2) # 2명이 경계근무를 나감\n",
    "# print(\"남은 총: {0}\".format(gun))\n",
    "\n",
    "# UnboundLocalError: local variable 'gun' referenced before assignment\n",
    "# - gun이 함수 밖에서 선언된 변수이므로 할당 안된 지역변수 -> 사용 불가! "
   ]
  },
  {
   "cell_type": "markdown",
   "id": "05da3dcc-5ed5-400d-85a5-24833b0f43c4",
   "metadata": {
    "tags": []
   },
   "source": [
    "#### **전역변수: 변수를 함수 내외부 전역공간에서 사용 위해 함수 내에서 global 사용!!**"
   ]
  },
  {
   "cell_type": "code",
   "execution_count": 130,
   "id": "f385ac55-2437-4d57-86cf-9b967e382de1",
   "metadata": {},
   "outputs": [
    {
     "name": "stdout",
     "output_type": "stream",
     "text": [
      "전체 총: 10\n",
      "[함수 내] 남은 총: 18\n",
      "남은 총: 10\n"
     ]
    }
   ],
   "source": [
    "#함수 외부 gun = 10\n",
    "gun = 10 \n",
    "\n",
    "# 함수 내부 gun = 20\n",
    "def checkpoint(soldiers): # 경계근무\n",
    "    gun = 20\n",
    "    gun -= soldiers\n",
    "    print(\"[함수 내] 남은 총: {0}\".format(gun)) # 함수 내부\n",
    "\n",
    "#함수 외부 gun = 10\n",
    "print(\"전체 총: {0}\".format(gun))\n",
    "checkpoint(2) # 2명이 경계근무를 나감\n",
    "print(\"남은 총: {0}\".format(gun))"
   ]
  },
  {
   "cell_type": "code",
   "execution_count": 132,
   "id": "dd9f5e94-26a0-4aa8-bf2e-24d9bbacc3b3",
   "metadata": {},
   "outputs": [
    {
     "name": "stdout",
     "output_type": "stream",
     "text": [
      "전체 총: 10\n",
      "[함수 내] 남은 총: 8\n",
      "남은 총: 8\n"
     ]
    }
   ],
   "source": [
    "#함수 외부 gun = 10\n",
    "gun = 10 \n",
    "\n",
    "# 함수 내부 gun = 20\n",
    "def checkpoint(soldiers): # 경계근무\n",
    "    global gun\n",
    "    gun -= soldiers\n",
    "    print(\"[함수 내] 남은 총: {0}\".format(gun)) # 함수 내부\n",
    "\n",
    "#함수 외부 gun = 10\n",
    "print(\"전체 총: {0}\".format(gun))\n",
    "checkpoint(2) # 2명이 경계근무를 나감\n",
    "print(\"남은 총: {0}\".format(gun))"
   ]
  },
  {
   "cell_type": "markdown",
   "id": "58361484-f09b-4472-9d6b-a42a45089598",
   "metadata": {},
   "source": [
    "#### 매개변수 & 반환 통해 전역변수로 사용"
   ]
  },
  {
   "cell_type": "code",
   "execution_count": 135,
   "id": "dd3a2d26-a3a9-4031-8b09-c2a4d8689bbf",
   "metadata": {},
   "outputs": [
    {
     "name": "stdout",
     "output_type": "stream",
     "text": [
      "전체 총: 10\n",
      "[함수 내] 남은 총: 8\n",
      "남은 총: 8\n"
     ]
    }
   ],
   "source": [
    "#함수 외부 gun = 10\n",
    "gun = 10 \n",
    "\n",
    "def checkpoint_ret(gun, soldiers): # 매개변수를 추가로 사용\n",
    "    gun -= soldiers\n",
    "    print(\"[함수 내] 남은 총: {0}\".format(gun)) # 함수 내부\n",
    "    return gun\n",
    "\n",
    "#함수 외부 gun = 10\n",
    "print(\"전체 총: {0}\".format(gun))\n",
    "\n",
    "# 함수 외부의 gun을 인자로 넣어줌\n",
    "gun = checkpoint_ret(gun, 2) # 2명이 경계근무를 나감\n",
    "print(\"남은 총: {0}\".format(gun))"
   ]
  },
  {
   "cell_type": "markdown",
   "id": "c4b41c52-a240-4eb2-8dd6-78763eaa0c08",
   "metadata": {
    "jp-MarkdownHeadingCollapsed": true,
    "tags": []
   },
   "source": [
    "# **7) 입출력**"
   ]
  },
  {
   "cell_type": "markdown",
   "id": "60dc7371-1e4f-4749-b5e1-7a69a9a41c8d",
   "metadata": {
    "jp-MarkdownHeadingCollapsed": true,
    "tags": []
   },
   "source": [
    "### ***표준 출력***"
   ]
  },
  {
   "cell_type": "code",
   "execution_count": 159,
   "id": "243ee11b-1b04-4675-92e3-4fa07b7e7202",
   "metadata": {},
   "outputs": [
    {
     "name": "stdout",
     "output_type": "stream",
     "text": [
      "Python, Java\n",
      "Python vs Java vs JavaScript\n",
      "Python, Java? 무엇이 더 재밌을까요?\n"
     ]
    }
   ],
   "source": [
    "# seperate\n",
    "print(\"Python\", \"Java\", sep = \", \")\n",
    "print(\"Python\", \"Java\", \"JavaScript\", sep = \" vs \")\n",
    "\n",
    "# end\n",
    "print(\"Python\", \"Java\", sep = \", \", end = \"? \")\n",
    "print(\"무엇이 더 재밌을까요?\")"
   ]
  },
  {
   "cell_type": "code",
   "execution_count": 160,
   "id": "4f48bdd4-856e-4f9c-8b7c-8d3725cf41ed",
   "metadata": {},
   "outputs": [
    {
     "name": "stdout",
     "output_type": "stream",
     "text": [
      "Python Java\n"
     ]
    },
    {
     "name": "stderr",
     "output_type": "stream",
     "text": [
      "Python Java\n"
     ]
    }
   ],
   "source": [
    "import sys\n",
    "print(\"Python\", \"Java\", file = sys.stdout) # 표준 출력\n",
    "print(\"Python\", \"Java\", file = sys.stderr) # 표준 에러\n",
    "\n",
    "# 확인을 해서 코드를 수정해야할 경우 stderr 사용!!"
   ]
  },
  {
   "cell_type": "markdown",
   "id": "d4927f9a-3e61-4f71-b909-410b4bbfcd97",
   "metadata": {
    "jp-MarkdownHeadingCollapsed": true,
    "tags": []
   },
   "source": [
    "#### **일정 칸 확보 후 정렬 (str 형식만 가능!!)**\n",
    "> str( ).ljust(n) / str( ).rjust(n)"
   ]
  },
  {
   "cell_type": "code",
   "execution_count": 151,
   "id": "f3d07621-d39c-4a09-b5fd-7f6b73a19bd1",
   "metadata": {},
   "outputs": [
    {
     "name": "stdout",
     "output_type": "stream",
     "text": [
      "수학 0\n",
      "영어 50\n",
      "코딩 100\n",
      "수학      :   0\n",
      "영어      :  50\n",
      "코딩      : 100\n"
     ]
    }
   ],
   "source": [
    "# 시험 성적\n",
    "scores = {\"수학\" : 0, \"영어\" : 50, \"코딩\" : 100}\n",
    "\n",
    "# 기본 출력\n",
    "for subject, score in scores.items(): # dict.items() -> key,value쌍을 튜플로\n",
    "        print(subject, score)\n",
    "\n",
    "# 8칸의 공간 생성 후 왼쪽 정렬 / 4칸의 공간 생성 후 오른쪽 정렬!!\n",
    "for subject, score in scores.items(): # dict.items() -> key,value쌍을 튜플로\n",
    "        print(subject.ljust(8), str(score).rjust(4), sep = \":\")"
   ]
  },
  {
   "cell_type": "markdown",
   "id": "7154d498-0e21-4329-af6a-1f5a645db62e",
   "metadata": {
    "jp-MarkdownHeadingCollapsed": true,
    "tags": []
   },
   "source": [
    "#### **일정 칸 확보 후 0 채우기 (str 형식만 가능!!)**\n",
    "> str( ).zfill(n)"
   ]
  },
  {
   "cell_type": "code",
   "execution_count": 154,
   "id": "ca2c9ce0-6a63-468b-b0e8-fd6b6fb043ef",
   "metadata": {},
   "outputs": [
    {
     "name": "stdout",
     "output_type": "stream",
     "text": [
      "대기번호: 001\n",
      "대기번호: 002\n",
      "대기번호: 003\n",
      "대기번호: 004\n",
      "대기번호: 005\n",
      "대기번호: 006\n",
      "대기번호: 007\n",
      "대기번호: 008\n",
      "대기번호: 009\n",
      "대기번호: 010\n"
     ]
    }
   ],
   "source": [
    "# 은행 대기순번표\n",
    "# 001, 002, 003, ...,\n",
    "for num in range(1,11):\n",
    "    print(\"대기번호: \" + str(num).zfill(3))"
   ]
  },
  {
   "cell_type": "markdown",
   "id": "92010d0e-b4f0-4923-b45d-807740501f35",
   "metadata": {
    "jp-MarkdownHeadingCollapsed": true,
    "tags": []
   },
   "source": [
    "### ***표준 입력***"
   ]
  },
  {
   "cell_type": "markdown",
   "id": "efcddcee-a872-475d-9320-4b1aac639ff8",
   "metadata": {},
   "source": [
    "#### **(주의) input은 값을 항상 [string] 형태로 받음**"
   ]
  },
  {
   "cell_type": "code",
   "execution_count": 158,
   "id": "bbab5b86-cac6-460b-9690-e48edc4c36a8",
   "metadata": {},
   "outputs": [
    {
     "name": "stdin",
     "output_type": "stream",
     "text": [
      "아무 값이나 입력하세요:  10\n"
     ]
    },
    {
     "name": "stdout",
     "output_type": "stream",
     "text": [
      "입력하신 값은 10입니다.\n",
      "<class 'str'>\n"
     ]
    }
   ],
   "source": [
    "answer = input(\"아무 값이나 입력하세요: \")\n",
    "print(\"입력하신 값은 \" + answer + \"입니다.\")\n",
    "\n",
    "print(type(answer)) # string!!"
   ]
  },
  {
   "cell_type": "markdown",
   "id": "afd83be7-6cc4-4486-a067-3d0f41b628d2",
   "metadata": {
    "jp-MarkdownHeadingCollapsed": true,
    "tags": []
   },
   "source": [
    "### ***다양한 출력포맷***\n",
    "> \"{0:채우기&정렬&(부호표시)&빈칸수}\".format( )"
   ]
  },
  {
   "cell_type": "markdown",
   "id": "cdbb8b67-1937-4be0-882d-12785fe532e9",
   "metadata": {},
   "source": [
    "#### **채우기와 정렬**"
   ]
  },
  {
   "cell_type": "code",
   "execution_count": null,
   "id": "df5e321b-0c94-4d0b-9996-1578cb967e54",
   "metadata": {},
   "outputs": [],
   "source": [
    "# 빈 자리는 빈 공간으로 두고, 오른쪽 정렬을 하되, 총 10자리 공간을 확보\n",
    "print(\"{0: >10}\".format(500))"
   ]
  },
  {
   "cell_type": "markdown",
   "id": "dcfd50d3-6379-4bba-944d-6c1e43332965",
   "metadata": {
    "tags": []
   },
   "source": [
    "#### **부호 표시**"
   ]
  },
  {
   "cell_type": "code",
   "execution_count": null,
   "id": "aadceae7-7678-4b6b-ba49-4fde3cb4da74",
   "metadata": {
    "tags": []
   },
   "outputs": [],
   "source": [
    "# 양수일 땐 +로 표시 / 음수일땐 -로 표시\n",
    "# [+] 기호를 입력하여 양수(+) & 음수(-) 표현이 가능\n",
    "print(\"{0: >+10}\".format(500))\n",
    "print(\"{0: >+10}\".format(-500))\n",
    "\n",
    "# 빈 자리는 _으로 채우고, 왼쪽 정렬하되, 부호 표시\n",
    "print(\"{0:_<+10}\".format(500))"
   ]
  },
  {
   "cell_type": "markdown",
   "id": "4a2d4406-29e7-4597-a750-ef7c5a1ceaff",
   "metadata": {},
   "source": [
    "#### **자릿수 표시**"
   ]
  },
  {
   "cell_type": "code",
   "execution_count": null,
   "id": "84d451b5-92a4-4182-bdd2-bb1b642b065b",
   "metadata": {},
   "outputs": [],
   "source": [
    "# 세자리마다 콤마를 찍어주기\n",
    "print(\"{0:,}\".format(10000000000))\n",
    "\n",
    "# 세자리마다 콤마를 찍어주되, 부호 표시\n",
    "print(\"{0:+,}\".format(10000000000))"
   ]
  },
  {
   "cell_type": "code",
   "execution_count": null,
   "id": "f9130b05-34d5-4120-95ac-700e61d25d3b",
   "metadata": {},
   "outputs": [],
   "source": [
    "기\n",
    "print(\"{0:^<+30,}\".format(10000000000))"
   ]
  },
  {
   "cell_type": "markdown",
   "id": "18b5e6aa-5ad1-4646-8b4b-5fc69d7b05ae",
   "metadata": {},
   "source": [
    "#### **소수점 표시**"
   ]
  },
  {
   "cell_type": "code",
   "execution_count": null,
   "id": "fcc1e3e9-b21e-49e9-ba40-08de1e0c6b49",
   "metadata": {},
   "outputs": [],
   "source": [
    "# 소수점 출력\n",
    "print(\"{0:f}\".format(5/3))\n",
    "\n",
    "# 소수점을 특정 자리수까지만 표시 (소수점 셋째 자리에서 반올림)\n",
    "print(\"{0:.2f}\".format(5/3))"
   ]
  },
  {
   "cell_type": "markdown",
   "id": "5170f3d8-0781-4cc8-bb29-78a70575a3d8",
   "metadata": {
    "jp-MarkdownHeadingCollapsed": true,
    "tags": []
   },
   "source": [
    "### ***파일 읽고쓰기***"
   ]
  },
  {
   "cell_type": "code",
   "execution_count": 188,
   "id": "9e5933cc-c932-4c56-a90f-61ce1a0faa73",
   "metadata": {},
   "outputs": [
    {
     "data": {
      "text/plain": [
       "'/Users/kimhuiyeon/Documents/JupyterLab'"
      ]
     },
     "execution_count": 188,
     "metadata": {},
     "output_type": "execute_result"
    }
   ],
   "source": [
    "import os\n",
    "os.getcwd()"
   ]
  },
  {
   "cell_type": "markdown",
   "id": "1f718b9c-54c3-4405-9549-54200d6d620d",
   "metadata": {
    "tags": []
   },
   "source": [
    "#### **파일 쓰기**\n",
    "> 파일변수 = open(\"파일명\", \"w\", encoding = \"utf8\")\n",
    "\n",
    "> 파일변수 = open(\"파일명\", \"a\", encoding = \"utf8\")"
   ]
  },
  {
   "cell_type": "code",
   "execution_count": 189,
   "id": "4585f7c7-0bde-4db5-9b42-bc430f53ff18",
   "metadata": {},
   "outputs": [],
   "source": [
    "# write\n",
    "score_file = open(\"score.txt\", \"w\", encoding = \"utf8\")\n",
    "\n",
    "print(\"수학: 0\", file = score_file)\n",
    "print(\"영어: 50\", file = score_file)\n",
    "\n",
    "score_file.close()"
   ]
  },
  {
   "cell_type": "code",
   "execution_count": 190,
   "id": "431cd601-ff83-48fd-b69d-b223c69ca6b0",
   "metadata": {},
   "outputs": [],
   "source": [
    "# append\n",
    "score_file = open(\"score.txt\", \"a\", encoding = \"utf8\")\n",
    "\n",
    "score_file.write(\"과학: 80\")\n",
    "score_file.write(\"\\n코딩: 100\")\n",
    "\n",
    "score_file.close()\n",
    "## score_file.write는 자동 줄바꿈 이뤄지지 않음!"
   ]
  },
  {
   "cell_type": "markdown",
   "id": "6ecdddb8-5a39-4a6d-b812-2ebf3611a0df",
   "metadata": {},
   "source": [
    "#### **파일 읽기**\n",
    "> 파일변수 = open(\"파일명\", \"r\", encoding = \"utf8\")"
   ]
  },
  {
   "cell_type": "code",
   "execution_count": 191,
   "id": "fbc5dbec-7aff-4654-952b-64ea6824514e",
   "metadata": {},
   "outputs": [
    {
     "name": "stdout",
     "output_type": "stream",
     "text": [
      "수학: 0\n",
      "영어: 50\n",
      "과학: 80\n",
      "코딩: 100\n"
     ]
    }
   ],
   "source": [
    "# read\n",
    "score_file = open(\"score.txt\", \"r\", encoding = \"utf8\")\n",
    "\n",
    "print(score_file.read())\n",
    "\n",
    "score_file.close()"
   ]
  },
  {
   "cell_type": "code",
   "execution_count": 192,
   "id": "bb691cb6-a0b3-4887-be34-bada795fdc12",
   "metadata": {},
   "outputs": [
    {
     "name": "stdout",
     "output_type": "stream",
     "text": [
      "수학: 0\n",
      "영어: 50\n",
      "과학: 80\n",
      "코딩: 100"
     ]
    }
   ],
   "source": [
    "# read one by one\n",
    "score_file = open(\"score.txt\", \"r\", encoding = \"utf8\")\n",
    "\n",
    "print(score_file.readline(), end = \"\") # 줄별로 읽기, 한 줄 읽고 커서는 다음 줄로 이동\n",
    "print(score_file.readline(), end = \"\") \n",
    "print(score_file.readline(), end = \"\") \n",
    "print(score_file.readline(), end = \"\")\n",
    "\n",
    "score_file.close()"
   ]
  },
  {
   "cell_type": "code",
   "execution_count": 193,
   "id": "90c33f5e-9082-497f-beec-7e3eafa447e1",
   "metadata": {},
   "outputs": [
    {
     "name": "stdout",
     "output_type": "stream",
     "text": [
      "수학: 0\n",
      "영어: 50\n",
      "과학: 80\n",
      "코딩: 100"
     ]
    }
   ],
   "source": [
    "# 파일이 몇 줄인지 모를 때, 내용이 없으면 탈출하는 반복문 이용\n",
    "score_file = open(\"score.txt\", \"r\", encoding = \"utf8\")\n",
    "\n",
    "while True:\n",
    "    line = score_file.readline()\n",
    "    if not line:\n",
    "        break\n",
    "    print(line, end = \"\")\n",
    "    \n",
    "score_file.close()"
   ]
  },
  {
   "cell_type": "code",
   "execution_count": 194,
   "id": "ed8aa968-58ad-4dc6-aa3e-0ed83ad828cb",
   "metadata": {},
   "outputs": [
    {
     "name": "stdout",
     "output_type": "stream",
     "text": [
      "수학: 0\n",
      "영어: 50\n",
      "과학: 80\n",
      "코딩: 100"
     ]
    }
   ],
   "source": [
    " # list 형태로 저장 후 읽기\n",
    "score_file = open(\"score.txt\", \"r\", encoding = \"utf8\")\n",
    "\n",
    "lines = score_file.readlines()\n",
    "for line in lines:\n",
    "    print(line, end = \"\")\n",
    "    \n",
    "score_file.close()"
   ]
  },
  {
   "cell_type": "markdown",
   "id": "b80227f0-1a00-4ecd-b553-b6b43ea2cf54",
   "metadata": {
    "tags": []
   },
   "source": [
    "#### **파일 읽고쓰기_pickle**\n",
    "> 파일변수 = open(\"파일명\", wb\")  \n",
    "pickle.dump(내용변수, 파일변수)  \n",
    "---  \n",
    "> 파일변수 = open(\"파일명\", rb\")  \n",
    "pickle.load(파일변수)"
   ]
  },
  {
   "cell_type": "code",
   "execution_count": 7,
   "id": "6af01f68-f4fd-4d3d-ba06-25a622fbd89c",
   "metadata": {},
   "outputs": [
    {
     "name": "stdout",
     "output_type": "stream",
     "text": [
      "{'이름': '박명수', '나이': 30, '취미': ['축구', '골프', '코딩']}\n"
     ]
    }
   ],
   "source": [
    "# writebinary -> pickle로 write 시 주의!\n",
    "import pickle\n",
    "profile_file = open(\"profile.pickle\", \"wb\")\n",
    "\n",
    "profile = {\"이름\": \"박명수\", \"나이\": 30, \"취미\": [\"축구\", \"골프\", \"코딩\"]}\n",
    "print(profile)\n",
    "pickle.dump(profile, profile_file) # profile에 있는 정보를 file에 저장\n",
    "\n",
    "profile_file.close()"
   ]
  },
  {
   "cell_type": "code",
   "execution_count": 8,
   "id": "34d6eb0c-236d-4398-aa56-e4b7b787dbd4",
   "metadata": {},
   "outputs": [
    {
     "name": "stdout",
     "output_type": "stream",
     "text": [
      "{'이름': '박명수', '나이': 30, '취미': ['축구', '골프', '코딩']}\n"
     ]
    }
   ],
   "source": [
    "# readbinary -> pickle로 read 시 주의!\n",
    "profile_file = open(\"profile.pickle\", \"rb\")\n",
    "\n",
    "profile = pickle.load(profile_file) # file에 있는 정보를 profile에 불러오기\n",
    "print(profile)\n",
    "\n",
    "profile_file.close()"
   ]
  },
  {
   "cell_type": "markdown",
   "id": "96c2769a-5dcd-4da9-9dfd-3dd199bf48f4",
   "metadata": {
    "tags": []
   },
   "source": [
    "#### 파일 읽고쓰기_pickle & with\n",
    "> with open(\"파일명\", \"rb\") as 파일변수:  \n",
    "　　　　　print(pickle.load(파일변수))\n",
    "---\n",
    "> with open(\"파일명\", \"w\") as 파일변수:  \n",
    "　　　　　파일변수.write(\"내용\")  \n",
    "> with open(\"파일명\", \"r\") as 파일변수:  \n",
    "　　　　　print(파일변수.read())"
   ]
  },
  {
   "cell_type": "code",
   "execution_count": 11,
   "id": "0942c7a5-d21a-4709-9d94-b50b2e9adfbf",
   "metadata": {},
   "outputs": [
    {
     "name": "stdout",
     "output_type": "stream",
     "text": [
      "{'이름': '박명수', '나이': 30, '취미': ['축구', '골프', '코딩']}\n"
     ]
    }
   ],
   "source": [
    "# open 통해 파일 열어 profile_file로 저장\n",
    "# close 필요 없이 with문을 탈출하면서 파일 닫힘!\n",
    "with open(\"profile.pickle\", \"rb\") as profile_file:\n",
    "    print(pickle.load(profile_file))"
   ]
  },
  {
   "cell_type": "code",
   "execution_count": 12,
   "id": "d156ee61-9a70-41b1-aba7-0644d52ca38b",
   "metadata": {},
   "outputs": [
    {
     "name": "stdout",
     "output_type": "stream",
     "text": [
      "파이썬을 열심히 공부하고 있어요\n"
     ]
    }
   ],
   "source": [
    "with open(\"study.txt\", \"w\") as study_file:\n",
    "    study_file.write(\"파이썬을 열심히 공부하고 있어요\")\n",
    "\n",
    "with open(\"study.txt\", \"r\") as study_file:\n",
    "    print(study_file.read()) "
   ]
  },
  {
   "cell_type": "markdown",
   "id": "df00b10f-8757-4682-a435-4e5a125b45f3",
   "metadata": {
    "jp-MarkdownHeadingCollapsed": true,
    "tags": []
   },
   "source": [
    "# 8) **클래스 🌟🌟🌟🌟🌟**"
   ]
  },
  {
   "cell_type": "markdown",
   "id": "a16b92ea-81fa-443a-af4b-8a67320523eb",
   "metadata": {
    "jp-MarkdownHeadingCollapsed": true,
    "tags": []
   },
   "source": [
    "### ***스타크래프트 예제***"
   ]
  },
  {
   "cell_type": "code",
   "execution_count": 16,
   "id": "741cccca-7274-4c65-b97d-50acd6a444f0",
   "metadata": {},
   "outputs": [
    {
     "name": "stdout",
     "output_type": "stream",
     "text": [
      "마린 유닛이 생성되었습니다.\n",
      "체력 40, 공격력 5\n",
      "\n"
     ]
    }
   ],
   "source": [
    "# 마린: 공격 유닛, 군인. 총을 쏠 수 있음.\n",
    "marine_name = \"마린\" # 유닛의 이름\n",
    "marine_hp = 40 # 유닛의 체력\n",
    "marine_damage = 5 # 유닛의 공격력\n",
    "\n",
    "print(\"{0} 유닛이 생성되었습니다.\".format(marine_name))\n",
    "print(\"체력 {0}, 공격력 {1}\\n\".format(marine_hp, marine_damage))"
   ]
  },
  {
   "cell_type": "code",
   "execution_count": 17,
   "id": "5f15d44f-e1f5-41ef-b1be-f6269d38ca2c",
   "metadata": {},
   "outputs": [
    {
     "name": "stdout",
     "output_type": "stream",
     "text": [
      "탱크 유닛이 생성되었습니다.\n",
      "체력 150, 공격력 35\n",
      "\n"
     ]
    }
   ],
   "source": [
    "# 탱크: 공격 유닛, 탱크. 포를 쏠 수 있는데, 일반 모드 / 시즈 모드.\n",
    "tank_name = \"탱크\"\n",
    "tank_hp = 150\n",
    "tank_damage = 35\n",
    "\n",
    "print(\"{0} 유닛이 생성되었습니다.\".format(tank_name))\n",
    "print(\"체력 {0}, 공격력 {1}\\n\".format(tank_hp, tank_damage))"
   ]
  },
  {
   "cell_type": "code",
   "execution_count": 18,
   "id": "db49a997-8e0d-42b6-87c0-2719e5b67be3",
   "metadata": {},
   "outputs": [
    {
     "name": "stdout",
     "output_type": "stream",
     "text": [
      "마린: 1시 방향으로 적군을 공격합니다. [공격력 5]\n",
      "탱크: 1시 방향으로 적군을 공격합니다. [공격력 35]\n"
     ]
    }
   ],
   "source": [
    "def attack(name, location, damage):\n",
    "    print(\"{0}: {1} 방향으로 적군을 공격합니다. [공격력 {2}]\".format(\\\n",
    "                                                      name, location, damage))\n",
    "    \n",
    "attack(marine_name, \"1시\", marine_damage)\n",
    "attack(tank_name, \"1시\", tank_damage)"
   ]
  },
  {
   "cell_type": "code",
   "execution_count": 19,
   "id": "879563da-6c3d-43d0-885b-b828726166a6",
   "metadata": {},
   "outputs": [
    {
     "name": "stdout",
     "output_type": "stream",
     "text": [
      "탱크: 1시 방향으로 적군을 공격합니다. [공격력 35]\n",
      "탱크: 1시 방향으로 적군을 공격합니다. [공격력 35]\n"
     ]
    }
   ],
   "source": [
    "# 탱크: 공격 유닛, 탱크. 포를 쏠 수 있는데, 일반 모드 / 시즈 모드.\n",
    "tank2_name = \"탱크\"\n",
    "tank2_hp = 150\n",
    "tank2_damage = 35\n",
    "\n",
    "attack(tank_name, \"1시\", tank_damage)\n",
    "attack(tank2_name, \"1시\", tank2_damage)"
   ]
  },
  {
   "cell_type": "markdown",
   "id": "fa230440-d600-4124-9af8-74593a911a02",
   "metadata": {
    "jp-MarkdownHeadingCollapsed": true,
    "tags": []
   },
   "source": [
    "### ***class***\n",
    "> \\_\\_init\\_\\_ : 생성자(함수)  \n",
    "-> self를 제외하고 동일한 개수의 인자값 넣어줘야 함\n",
    "---\n",
    "> self.name, self.hp, self.damage...에서 name, hp, damage : 멤버변수  \n",
    "-> class 내에서 정의된 변수 -> 초기화 및 사용 가능\n",
    "---\n",
    "> marine1, marine2, tank... : 객체 (class로부터 생성되는 것들)  \n",
    "-> unit class의 instance"
   ]
  },
  {
   "cell_type": "code",
   "execution_count": 45,
   "id": "8de10110-b4cc-46ed-bd2f-a3a1ddeea8c9",
   "metadata": {},
   "outputs": [],
   "source": [
    "# 일반 유닛\n",
    "class Unit:\n",
    "    def __init__(self, name, hp, damage):\n",
    "        self.name = name\n",
    "        self.hp = hp\n",
    "        self.damage = damage\n",
    "        print(\"{0} 유닛이 생성되었습니다.\".format(self.name))\n",
    "        print(\"체력 {0}, 공격력 {1}\".format(self.hp, self.damage))"
   ]
  },
  {
   "cell_type": "code",
   "execution_count": 24,
   "id": "ff23770a-25d9-4969-88cd-9bf0eef3753c",
   "metadata": {},
   "outputs": [
    {
     "name": "stdout",
     "output_type": "stream",
     "text": [
      "마린 유닛이 생성되었습니다.\n",
      "체력 40, 공격력 5\n",
      "마린 유닛이 생성되었습니다.\n",
      "체력 40, 공격력 5\n",
      "탱크 유닛이 생성되었습니다.\n",
      "체력 150, 공격력 35\n"
     ]
    }
   ],
   "source": [
    "marine1 = Unit(\"마린\", 40, 5)\n",
    "marine2 = Unit(\"마린\", 40, 5)\n",
    "tank = Unit(\"탱크\", 150, 35)"
   ]
  },
  {
   "cell_type": "code",
   "execution_count": 25,
   "id": "51bf7870-19be-49a4-b72a-c6ac61c1ec48",
   "metadata": {},
   "outputs": [
    {
     "name": "stdout",
     "output_type": "stream",
     "text": [
      "레이스 유닛이 생성되었습니다.\n",
      "체력 80, 공격력 5\n",
      "유닛 이름 : 레이스, 공격력: 5\n"
     ]
    }
   ],
   "source": [
    "# 레이스: 공중 유닛, 비행기. 클로킹(상대방에게 보이지 않는 기술)\n",
    "wraith1 = Unit(\"레이스\", 80, 5)\n",
    "print(\"유닛 이름 : {0}, 공격력: {1}\".format(wraith1.name, wraith1.damage))"
   ]
  },
  {
   "cell_type": "markdown",
   "id": "b81c5693-2bfa-4705-8d7e-0f57bcd2a994",
   "metadata": {},
   "source": [
    "#### **정의하지 않았던 멤버변수를 외부에서 추가로 할당 가능!**"
   ]
  },
  {
   "cell_type": "code",
   "execution_count": 28,
   "id": "4cf643a0-f268-4587-9e67-0c5a13e83889",
   "metadata": {},
   "outputs": [
    {
     "name": "stdout",
     "output_type": "stream",
     "text": [
      "빼앗은 레이스 유닛이 생성되었습니다.\n",
      "체력 80, 공격력 5\n",
      "빼앗은 레이스는 현재 클로킹 상태입니다.\n"
     ]
    }
   ],
   "source": [
    "# 마인드 컨트롤(상대방 유닛을 내 것으로 만드는(빼앗는) 기술)\n",
    "wraith2 = Unit(\"빼앗은 레이스\", 80, 5)\n",
    "wraith2.clocking = True\n",
    "\n",
    "if wraith2.clocking == True:\n",
    "    print(\"{0}는 현재 클로킹 상태입니다.\".format(wraith2.name))"
   ]
  },
  {
   "cell_type": "markdown",
   "id": "c03915ca-5f6e-4efc-bec7-b0403b9a1d8c",
   "metadata": {
    "jp-MarkdownHeadingCollapsed": true,
    "tags": []
   },
   "source": [
    "### ***method***\n",
    "> class 클래스명:  \n",
    "　　　　　def \\_\\_init\\_\\_(self, 멤버변수1, 멤버변수2, ...):  \n",
    "　　　　　　　　　　self.멤버변수1 = 멤버변수1 ...  \n",
    "　　　　　def 메소드명(self, 멤버변수3):  \n",
    "　　　　　　　　　　...\n"
   ]
  },
  {
   "cell_type": "markdown",
   "id": "b7edc405-95a1-4ca8-af6c-abab0304272d",
   "metadata": {},
   "source": [
    "#### **(주의) self.name(이미 생성된 객체의 정보) <-> name(전달해야 하는 인자)**"
   ]
  },
  {
   "cell_type": "code",
   "execution_count": 57,
   "id": "8c6e6045-5926-49c4-969c-37b7f4a922f9",
   "metadata": {},
   "outputs": [],
   "source": [
    "# 공격 유닛\n",
    "class AttackUnit:\n",
    "    def __init__(self, name, hp, damage):\n",
    "        self.name = name\n",
    "        self.hp = hp\n",
    "        self.damage = damage\n",
    "    \n",
    "    def attack(self, location):\n",
    "        print(\"{0}: {1} 방향으로 적군을 공격합니다. [공격력 {2}]\"\\\n",
    "              .format(self.name, location, self.damage))\n",
    "        \n",
    "    def damaged(self, damage):\n",
    "        print(\"{0}: {1} 데미지를 입었습니다.\"\\\n",
    "              .format(self.name, damage))\n",
    "        self.hp -= damage\n",
    "        print(\"{0}: 현재 체력은 {1}입니다.\".format(self.name, self.hp))\n",
    "        if self.hp <= 0:\n",
    "            print(\"{0}은 파괴되었습니다.\".format(self.name))"
   ]
  },
  {
   "cell_type": "code",
   "execution_count": 58,
   "id": "61a95ca9-2282-46d3-bbd7-52793b0f6ac4",
   "metadata": {
    "tags": []
   },
   "outputs": [
    {
     "name": "stdout",
     "output_type": "stream",
     "text": [
      "파이어뱃: 5시 방향으로 적군을 공격합니다. [공격력 16]\n"
     ]
    }
   ],
   "source": [
    "# 파이어뱃: 공격 유닛, 화염방사기.\n",
    "firebat1 = AttackUnit(\"파이어뱃\", 50, 16)\n",
    "firebat1.attack(\"5시\")"
   ]
  },
  {
   "cell_type": "code",
   "execution_count": 59,
   "id": "e86092cb-ce3b-49bb-b553-a35d27ab5796",
   "metadata": {},
   "outputs": [
    {
     "name": "stdout",
     "output_type": "stream",
     "text": [
      "파이어뱃: 25 데미지를 입었습니다.\n",
      "파이어뱃: 현재 체력은 25입니다.\n",
      "파이어뱃: 25 데미지를 입었습니다.\n",
      "파이어뱃: 현재 체력은 0입니다.\n",
      "파이어뱃은 파괴되었습니다.\n"
     ]
    }
   ],
   "source": [
    "# 공격을 2번 받는다고 가정\n",
    "firebat1.damaged(25)\n",
    "firebat1.damaged(25)"
   ]
  },
  {
   "cell_type": "markdown",
   "id": "655ce079-f618-4c3c-bc4f-ed85e1989a7b",
   "metadata": {
    "jp-MarkdownHeadingCollapsed": true,
    "tags": []
   },
   "source": [
    "### ***inherit***\n",
    "> class 클래스명(상속 클래스명):  \n",
    "　　　　　상속 클래스명.\\_\\_init\\_\\_(self, 멤버변수1, 멤버변수2, ...)"
   ]
  },
  {
   "cell_type": "markdown",
   "id": "f40a0161-1eec-4d93-8703-f524c246dd7d",
   "metadata": {},
   "source": [
    "#### **1) 하나의 상속**"
   ]
  },
  {
   "cell_type": "code",
   "execution_count": 70,
   "id": "77407a51-7bce-4866-a979-c8b13fe54ece",
   "metadata": {
    "tags": []
   },
   "outputs": [],
   "source": [
    "# 일반 유닛\n",
    "class Unit:\n",
    "    def __init__(self, name, hp, speed):\n",
    "        self.name = name\n",
    "        self.hp = hp\n",
    "        self.speed = speed\n",
    "    \n",
    "    def move(self, location):\n",
    "        print(\"[지상 유닛 이동]\")\n",
    "        print(\"{0}: {1} 방향으로 이동합니다. [속도 {2}]\"\\\n",
    "              .format(self.name, location, self.speed))\n",
    "\n",
    "# 공격 유닛\n",
    "class AttackUnit(Unit):\n",
    "    def __init__(self, name, hp, speed, damage):\n",
    "        Unit.__init__(self, name, hp, speed)\n",
    "        self.damage = damage # Unit class로부터 상속받은 후 멤버변수 추가!\n",
    "    \n",
    "    def attack(self, location):\n",
    "        print(\"{0}: {1} 방향으로 적군을 공격합니다. [공격력 {2}]\"\\\n",
    "              .format(self.name, location, self.damage))\n",
    "        \n",
    "    def damaged(self, damage):\n",
    "        print(\"{0}: {1} 데미지를 입었습니다.\"\\\n",
    "              .format(self.name, damage))\n",
    "        self.hp -= damage\n",
    "        print(\"{0}: 현재 체력은 {1}입니다.\".format(self.name, self.hp))\n",
    "        if self.hp <= 0:\n",
    "            print(\"{0}은 파괴되었습니다.\".format(self.name))"
   ]
  },
  {
   "cell_type": "code",
   "execution_count": 73,
   "id": "e8f0168e-207d-41ed-8b69-f046af415186",
   "metadata": {
    "tags": []
   },
   "outputs": [
    {
     "name": "stdout",
     "output_type": "stream",
     "text": [
      "파이어뱃: 5시 방향으로 적군을 공격합니다. [공격력 16]\n"
     ]
    }
   ],
   "source": [
    "# 파이어뱃: 공격 유닛, 화염방사기.\n",
    "firebat1 = AttackUnit(\"파이어뱃\", 50, 15, 16)\n",
    "firebat1.attack(\"5시\")"
   ]
  },
  {
   "cell_type": "code",
   "execution_count": 55,
   "id": "b848c101-4276-405f-9cf0-98256e39effa",
   "metadata": {},
   "outputs": [
    {
     "name": "stdout",
     "output_type": "stream",
     "text": [
      "파이어뱃: 25 데미지를 입었습니다.\n",
      "파이어뱃: 현재 체력은 25입니다.\n",
      "파이어뱃: 25 데미지를 입었습니다.\n",
      "파이어뱃: 현재 체력은 0입니다.\n",
      "파이어뱃은 파괴되었습니다.\n"
     ]
    }
   ],
   "source": [
    "# 공격을 2번 받는다고 가정\n",
    "firebat1.damaged(25)\n",
    "firebat1.damaged(25)"
   ]
  },
  {
   "cell_type": "markdown",
   "id": "f355e495-6299-4978-ac94-11a43219362d",
   "metadata": {},
   "source": [
    "#### **두개의 상속**"
   ]
  },
  {
   "cell_type": "code",
   "execution_count": 74,
   "id": "293c3192-d48e-41dc-b6dc-0b5d53e60519",
   "metadata": {},
   "outputs": [],
   "source": [
    "# 공중 유닛\n",
    "class FlyableUnit:\n",
    "    def __init__(self, flying_speed):\n",
    "        self.flying_speed = flying_speed\n",
    "    \n",
    "    def fly(self, name, location):\n",
    "        print(\"{0}: {1} 방향으로 날아갑니다. [속도 {2}]\"\\\n",
    "              .format(name, location, self.flying_speed))"
   ]
  },
  {
   "cell_type": "code",
   "execution_count": 85,
   "id": "ab24d3ee-f1be-4733-b7d5-b3df76af3c6a",
   "metadata": {},
   "outputs": [],
   "source": [
    "# 공중 공격 유닛\n",
    "class FlyableAttackUnit(AttackUnit, FlyableUnit):\n",
    "    def __init__(self, name, hp, damage, flying_speed):\n",
    "        AttackUnit.__init__(self, name, hp, 0, damage)\n",
    "        FlyableUnit.__init__(self, flying_speed)\n",
    "        \n",
    "    def move(self, location):\n",
    "        print(\"[공중 유닛 이동]\")\n",
    "        self.fly(self.name, location)"
   ]
  },
  {
   "cell_type": "code",
   "execution_count": 80,
   "id": "1d84d3f0-e8a3-4cb7-a1c7-bb9057b47d2c",
   "metadata": {},
   "outputs": [
    {
     "name": "stdout",
     "output_type": "stream",
     "text": [
      "발키리: 3시 방향으로 날아갑니다. [속도 5]\n"
     ]
    }
   ],
   "source": [
    "# 발키리: 공중 공격 유닛, 한번에 14발 미사일 발사.\n",
    "valkyrie = FlyableAttackUnit(\"발키리\", 200, 6, 5)\n",
    "valkyrie.fly(valkyrie.name, \"3시\")"
   ]
  },
  {
   "cell_type": "markdown",
   "id": "9de230e7-fa03-4be6-b09e-b430254ac6b7",
   "metadata": {
    "jp-MarkdownHeadingCollapsed": true,
    "tags": []
   },
   "source": [
    "### ***method overriding***"
   ]
  },
  {
   "cell_type": "code",
   "execution_count": 82,
   "id": "b71b001c-7d86-4b58-a131-0673b20347be",
   "metadata": {},
   "outputs": [],
   "source": [
    "# 벌쳐: 지상 유닛, 기동성이 좋음.\n",
    "vulture = AttackUnit(\"벌쳐\", 80, 10, 20)\n",
    "\n",
    "# 배틀크루저: 공중 유닛, 체력도 굉장히 좋음, 공격력도 좋음.\n",
    "battlecrusier = FlyableAttackUnit(\"배틀크루저\", 500, 25, 3)"
   ]
  },
  {
   "cell_type": "code",
   "execution_count": 86,
   "id": "e9c061b0-161e-48f7-8a06-3db54537bbe7",
   "metadata": {},
   "outputs": [
    {
     "name": "stdout",
     "output_type": "stream",
     "text": [
      "[지상 유닛 이동]\n",
      "벌쳐: 11시 방향으로 이동합니다. [속도 10]\n",
      "배틀크루저: 9시 방향으로 날아갑니다. [속도 3]\n",
      "[지상 유닛 이동]\n",
      "배틀크루저: 9시 방향으로 이동합니다. [속도 0]\n"
     ]
    }
   ],
   "source": [
    "vulture.move(\"11시\")\n",
    "battlecrusier.fly(battlecrusier.name, \"9시\")\n",
    "battlecrusier.move(\"9시\")"
   ]
  },
  {
   "cell_type": "markdown",
   "id": "5433a41d-d9b0-47c8-b578-faac9c6ea069",
   "metadata": {
    "jp-MarkdownHeadingCollapsed": true,
    "tags": []
   },
   "source": [
    "### ***pass***"
   ]
  },
  {
   "cell_type": "code",
   "execution_count": 155,
   "id": "19026bba-4dfa-44ce-b0df-59ef4afe97e8",
   "metadata": {},
   "outputs": [],
   "source": [
    "# 건물 유닛\n",
    "class BuildingUnit(Unit):\n",
    "    def __init(self, name, hp, location):\n",
    "        pass"
   ]
  },
  {
   "cell_type": "code",
   "execution_count": 156,
   "id": "eef1d372-7e62-43aa-bda5-7d132137bc2d",
   "metadata": {},
   "outputs": [],
   "source": [
    "# 서플라이 디폿: 건물, 1개 건물 = 8 유닛.\n",
    "supply_depot = BuildingUnit(\"서플라이 디폿\", 500, \"7시\") # 아무런 출력X"
   ]
  },
  {
   "cell_type": "markdown",
   "id": "09d98e9a-3959-414d-9dbf-7f530fd06d96",
   "metadata": {},
   "source": [
    "#### **pass의 또다른 예제**"
   ]
  },
  {
   "cell_type": "code",
   "execution_count": 153,
   "id": "f327475d-9b4b-4f2b-abe9-e763fc68f8eb",
   "metadata": {},
   "outputs": [],
   "source": [
    "def game_start():\n",
    "    print(\"[알림] 새로운 게임을 시작합니다.\")\n",
    "\n",
    "def game_over():\n",
    "    pass"
   ]
  },
  {
   "cell_type": "code",
   "execution_count": 154,
   "id": "a2da92eb-71ae-4738-a62e-358508e77237",
   "metadata": {},
   "outputs": [
    {
     "name": "stdout",
     "output_type": "stream",
     "text": [
      "[알림] 새로운 게임을 시작합니다.\n"
     ]
    }
   ],
   "source": [
    "game_start()"
   ]
  },
  {
   "cell_type": "code",
   "execution_count": 152,
   "id": "b7733e81-ef91-4477-b203-3005a1414d0a",
   "metadata": {},
   "outputs": [
    {
     "data": {
      "text/plain": [
       "<function __main__.game_over()>"
      ]
     },
     "execution_count": 152,
     "metadata": {},
     "output_type": "execute_result"
    }
   ],
   "source": [
    "game_over # 아무런 실행X"
   ]
  },
  {
   "cell_type": "markdown",
   "id": "7fd7100b-9498-49c7-8210-6df8c5b6988d",
   "metadata": {
    "tags": []
   },
   "source": [
    "### ***super***"
   ]
  },
  {
   "cell_type": "code",
   "execution_count": 159,
   "id": "a08042a7-de94-4302-98b1-b320cfc7a7b2",
   "metadata": {},
   "outputs": [],
   "source": [
    "# 건물 유닛\n",
    "class BuildingUnit(Unit):\n",
    "    def __init__(self, name, hp, location):\n",
    "        # Unit.__init__(self, name, hp, 0) # speed는 0의 값으로\n",
    "        super().__init__(name, hp, 0) # 위와 동일하나 super 뒤 () 주의하고, self를 제외하고!!\n",
    "        self.location = location"
   ]
  },
  {
   "cell_type": "markdown",
   "id": "af5db805-f2c7-49d7-b0e1-0303bc456f2b",
   "metadata": {
    "jp-MarkdownHeadingCollapsed": true,
    "tags": []
   },
   "source": [
    "### ***추가 코드***"
   ]
  },
  {
   "cell_type": "code",
   "execution_count": 4,
   "id": "465f9bcb-9a9b-494e-92e0-79f1b953f2ec",
   "metadata": {
    "tags": []
   },
   "outputs": [],
   "source": [
    "class Unit:\n",
    "    def __init__(self):\n",
    "        print(\"Unit 생성자\")\n",
    "\n",
    "class Flyable:\n",
    "    def __init__(self):\n",
    "        print(\"Flyable 생성자\")"
   ]
  },
  {
   "cell_type": "markdown",
   "id": "9abe29a3-02de-4c83-bc18-3af444b45be3",
   "metadata": {
    "tags": []
   },
   "source": [
    "#### **(주의)둘 이상의 부모 class를 다중 상속 받는 경우,<br> 순서 상 앞에 해당하는 부모 class에 대해서만 init 함수가 호출되는 문제가 있음!**"
   ]
  },
  {
   "cell_type": "code",
   "execution_count": 5,
   "id": "2ecace91-b00b-43c3-aa7b-88459672719d",
   "metadata": {},
   "outputs": [
    {
     "name": "stdout",
     "output_type": "stream",
     "text": [
      "Unit 생성자\n"
     ]
    }
   ],
   "source": [
    "# 드랍쉽      \n",
    "class FlyableUnit(Unit, Flyable):\n",
    "    def __init__(self):\n",
    "        super().__init__()\n",
    "        \n",
    "dropship = FlyableUnit()"
   ]
  },
  {
   "cell_type": "code",
   "execution_count": 6,
   "id": "ce11a50e-fc0e-4221-8dd1-1b6874b8650b",
   "metadata": {},
   "outputs": [
    {
     "name": "stdout",
     "output_type": "stream",
     "text": [
      "Flyable 생성자\n"
     ]
    }
   ],
   "source": [
    "# 드랍쉽      \n",
    "class FlyableUnit(Flyable, Unit):\n",
    "    def __init__(self):\n",
    "        super().__init__()\n",
    "        \n",
    "dropship = FlyableUnit()"
   ]
  },
  {
   "cell_type": "markdown",
   "id": "09ee69d9-395a-4ca1-8edc-716e7055bf52",
   "metadata": {
    "tags": []
   },
   "source": [
    "#### **(해결법)다중 상속시 따로 명시적으로**"
   ]
  },
  {
   "cell_type": "code",
   "execution_count": 7,
   "id": "e38e12a7-62d6-443d-9f0b-d3b00e72a938",
   "metadata": {},
   "outputs": [
    {
     "name": "stdout",
     "output_type": "stream",
     "text": [
      "Unit 생성자\n",
      "Flyable 생성자\n"
     ]
    }
   ],
   "source": [
    "# 드랍쉽      \n",
    "class FlyableUnit(Flyable, Unit):\n",
    "    def __init__(self):\n",
    "            Unit.__init__(self)\n",
    "            Flyable.__init__(self)\n",
    "            \n",
    "dropship = FlyableUnit()"
   ]
  },
  {
   "cell_type": "markdown",
   "id": "8c8f4898-e8fa-4408-81c8-608bc74014ba",
   "metadata": {},
   "source": [
    "### ***스타크래프트 예제 총망라***"
   ]
  },
  {
   "cell_type": "code",
   "execution_count": 37,
   "id": "04a6d835-7ab2-4da8-a245-28f551daad08",
   "metadata": {},
   "outputs": [],
   "source": [
    "# 일반 유닛\n",
    "class Unit:\n",
    "    def __init__(self, name, hp, speed):\n",
    "        self.name = name\n",
    "        self.hp = hp\n",
    "        self.speed = speed\n",
    "        print(\"{0} 유닛이 생성되었습니다.\".format(name)) # self.name과 name 모두 ok\n",
    "    def move(self, location):\n",
    "        print(\"{0}: {1} 방향으로 이동합니다. [속도 {2}]\"\\\n",
    "              .format(self.name, location, self.speed))\n",
    "    def damaged(self, damage):\n",
    "        print(\"{0}: {1} 데미지를 입었습니다.\".format(self.name, damage))\n",
    "        self.hp -= damage\n",
    "        print(\"{0}: 현재 체력은 {1}입니다.\".format(self.name, self.hp))\n",
    "        if self.hp <= 0:\n",
    "            print(\"{0}은 파괴되었습니다.\".format(self.name))\n",
    "            \n",
    "# 공격유닛\n",
    "class AttackUnit(Unit):\n",
    "    def __init__(self, name, hp, speed, damage):\n",
    "        Unit.__init__(self, name, hp, speed)\n",
    "        self.damage = damage\n",
    "    def attack(self, location):\n",
    "        print(\"{0}: {1} 방향으로 적군을 공격합니다. [공격력 {2}]\"\\\n",
    "              .format(self.name, location, self.damage))\n",
    "\n",
    "# 공중 유닛\n",
    "class FlyableUnit:\n",
    "    def __init__(self, flying_speed):\n",
    "        self.flying_speed = flying_speed\n",
    "    def fly(self, name, location):\n",
    "        print(\"{0}: {1} 방향으로 날아갑니다. [속도 {2}]\"\\\n",
    "              .format(name, location, self.flying_speed))\n",
    "\n",
    "# 공중 공격 유닛\n",
    "class FlyableAttackUnit(AttackUnit, FlyableUnit):\n",
    "    def __init__(self, name, hp, damage, flying_speed):\n",
    "        AttackUnit.__init__(self, name, hp, 0, damage)\n",
    "        FlyableUnit.__init__(self, flying_speed)\n",
    "    def move(self, location):\n",
    "        self.fly(self.name, location)            "
   ]
  },
  {
   "cell_type": "code",
   "execution_count": 38,
   "id": "cff34280-bbfe-42c1-8a80-4f300ab8d0a6",
   "metadata": {},
   "outputs": [],
   "source": [
    "# 마린 - 스팀팩 기술: 일정 시간 동안 이동 및 공격 속도를 증가, 체력 10 감소.\n",
    "class Marine(AttackUnit):\n",
    "    def __init__(self):\n",
    "        AttackUnit.__init__(self, \"마린\", 40, 1, 5)\n",
    "    def stimpack(self):\n",
    "        if self.hp > 10:\n",
    "            self.hp -= 10\n",
    "            print(\"{0}: 스팀팩을 사용합니다. (HP 10 감소)\".format(self.name))\n",
    "        else:\n",
    "            print(\"{0}: 체력이 부족하여 스팀팩을 사용하지 않습니다.\".format(self.name))\n",
    "\n",
    "# 탱크 - 시즈 모드: 탱크를 지상에 고정시켜, 더 높은 파워로 공격 가능, 이동 불가.\n",
    "class Tank(AttackUnit):\n",
    "    seize_developed = False\n",
    "    def __init__(self):\n",
    "        AttackUnit.__init__(self, \"탱크\", 150, 1, 35)\n",
    "        self.seize_mode = False\n",
    "    def set_seize_mode(self):\n",
    "        if Tank.seize_developed == False:\n",
    "            return\n",
    "        if self.seize_mode == False: # 비시즈모드 -> 시즈모드\n",
    "            print(\"{0}: 시즈모드로 전환합니다.\".format(self.name))\n",
    "            self.damage *= 2\n",
    "            self.seize_mode = True # 시즈모드 -> 비시즈모드\n",
    "        else:\n",
    "            print(\"{0}: 시즈모드를 해제합니다.\".format(self.name))\n",
    "            self.damage /= 2\n",
    "            self.seize_mode = False\n",
    "        \n",
    "# 레이스 - 클로킹 모드: 상대방에게 모습을 숨김\n",
    "class Wraith(FlyableAttackUnit):\n",
    "    def __init__(self):\n",
    "        FlyableAttackUnit.__init__(self, \"레이스\", 80, 20, 5)\n",
    "        self.clocked = False\n",
    "    def clocking(self):\n",
    "        if self.clocked == True:\n",
    "            print(\"{0}: 클로킹모드를 해제합니다.\".format(self.name))\n",
    "            self.clocked = False\n",
    "        else:\n",
    "            print(\"{0}: 클로킹모드로 전환합니다.\".format(self.name))\n",
    "            self.clocked = True  "
   ]
  },
  {
   "cell_type": "code",
   "execution_count": 39,
   "id": "680bcf48-2347-4098-bdca-0900ca1b577a",
   "metadata": {},
   "outputs": [],
   "source": [
    "# 게임 시작 & 종료 함수\n",
    "def game_start():\n",
    "    print(\"[알림] 새로운 게임을 시작합니다.\")\n",
    "\n",
    "def game_over():\n",
    "    print(\"Player: gg\")\n",
    "    print(\"[Player]님이 게임에서 퇴장하셨습니다.\")"
   ]
  },
  {
   "cell_type": "code",
   "execution_count": 40,
   "id": "ce97da5f-0e0a-4fa9-96d0-0afd2c9749ba",
   "metadata": {},
   "outputs": [],
   "source": [
    "from random import *"
   ]
  },
  {
   "cell_type": "code",
   "execution_count": 41,
   "id": "c5f7966a-f993-4efe-ba4e-7da2af445d7e",
   "metadata": {},
   "outputs": [
    {
     "name": "stdout",
     "output_type": "stream",
     "text": [
      "[알림] 새로운 게임을 시작합니다.\n",
      "마린 유닛이 생성되었습니다.\n",
      "마린 유닛이 생성되었습니다.\n",
      "마린 유닛이 생성되었습니다.\n",
      "탱크 유닛이 생성되었습니다.\n",
      "탱크 유닛이 생성되었습니다.\n",
      "레이스 유닛이 생성되었습니다.\n",
      "마린: 1시 방향으로 이동합니다. [속도 1]\n",
      "마린: 1시 방향으로 이동합니다. [속도 1]\n",
      "마린: 1시 방향으로 이동합니다. [속도 1]\n",
      "탱크: 1시 방향으로 이동합니다. [속도 1]\n",
      "탱크: 1시 방향으로 이동합니다. [속도 1]\n",
      "레이스: 1시 방향으로 날아갑니다. [속도 5]\n",
      "[알림] 탱크 시즈 모드 개발이 완료되었습니다.\n",
      "마린: 스팀팩을 사용합니다. (HP 10 감소)\n",
      "마린: 스팀팩을 사용합니다. (HP 10 감소)\n",
      "마린: 스팀팩을 사용합니다. (HP 10 감소)\n",
      "탱크: 시즈모드로 전환합니다.\n",
      "탱크: 시즈모드로 전환합니다.\n",
      "레이스: 클로킹모드로 전환합니다.\n",
      "마린: 1시 방향으로 적군을 공격합니다. [공격력 5]\n",
      "마린: 1시 방향으로 적군을 공격합니다. [공격력 5]\n",
      "마린: 1시 방향으로 적군을 공격합니다. [공격력 5]\n",
      "탱크: 1시 방향으로 적군을 공격합니다. [공격력 70]\n",
      "탱크: 1시 방향으로 적군을 공격합니다. [공격력 70]\n",
      "레이스: 1시 방향으로 적군을 공격합니다. [공격력 20]\n",
      "마린: 11 데미지를 입었습니다.\n",
      "마린: 현재 체력은 19입니다.\n",
      "마린: 13 데미지를 입었습니다.\n",
      "마린: 현재 체력은 17입니다.\n",
      "마린: 16 데미지를 입었습니다.\n",
      "마린: 현재 체력은 14입니다.\n",
      "탱크: 18 데미지를 입었습니다.\n",
      "탱크: 현재 체력은 132입니다.\n",
      "탱크: 19 데미지를 입었습니다.\n",
      "탱크: 현재 체력은 131입니다.\n",
      "레이스: 8 데미지를 입었습니다.\n",
      "레이스: 현재 체력은 72입니다.\n",
      "Player: gg\n",
      "[Player]님이 게임에서 퇴장하셨습니다.\n"
     ]
    }
   ],
   "source": [
    "# 실제 게임 시작\n",
    "game_start()\n",
    "\n",
    "# 마린 3기 생성\n",
    "m1 = Marine()\n",
    "m2 = Marine()\n",
    "m3 = Marine()\n",
    "\n",
    "# 탱크 2기 생성\n",
    "t1 = Tank()\n",
    "t2 = Tank()\n",
    "\n",
    "# 레이스 1기 생성\n",
    "w1 = Wraith()\n",
    "\n",
    "# 유닛 일괄 관리\n",
    "attack_units = []\n",
    "attack_units.append(m1)\n",
    "attack_units.append(m2)\n",
    "attack_units.append(m3)\n",
    "attack_units.append(t1)\n",
    "attack_units.append(t2)\n",
    "attack_units.append(w1)\n",
    "\n",
    "# 전군 이동\n",
    "for unit in attack_units:\n",
    "    unit.move(\"1시\")\n",
    "    \n",
    "# 탱크 시즈모드 개발\n",
    "Tank.seize_developed = True\n",
    "print(\"[알림] 탱크 시즈 모드 개발이 완료되었습니다.\")\n",
    "\n",
    "# 공격 모드 준비 (마린: 스팀팩, 탱크: 시즈 모드, 레이스: 클로킹 모드)\n",
    "for unit in attack_units:\n",
    "    if isinstance(unit, Marine):\n",
    "        unit.stimpack()\n",
    "    elif isinstance(unit, Tank):\n",
    "        unit.set_seize_mode()\n",
    "    elif isinstance(unit, Wraith):\n",
    "        unit.clocking()\n",
    "        \n",
    "# 전군 공격\n",
    "for unit in attack_units:\n",
    "    unit.attack(\"1시\")\n",
    "\n",
    "# 전군 피해\n",
    "for unit in attack_units:\n",
    "    unit.damaged(randint(5, 21)) # 공격은 랜덤으로 받음 (5~20)\n",
    "\n",
    "# 게임 종료\n",
    "game_over()   "
   ]
  },
  {
   "cell_type": "markdown",
   "id": "ae58ee9e-ddf3-4350-b9f4-7510f827da03",
   "metadata": {
    "jp-MarkdownHeadingCollapsed": true,
    "tags": []
   },
   "source": [
    "# 8-1) 클래스"
   ]
  },
  {
   "cell_type": "markdown",
   "id": "0aa152ca-6eae-4ee6-bffd-085194050d2f",
   "metadata": {
    "tags": []
   },
   "source": [
    "#### **자기소개서 클래스(1) 만들기**"
   ]
  },
  {
   "cell_type": "code",
   "execution_count": 42,
   "id": "61f17ff0-8125-44ca-acd9-de39999581a3",
   "metadata": {
    "tags": []
   },
   "outputs": [],
   "source": [
    "class JSS1:\n",
    "    def __init__(self): # initate, a = JSS() 즉 JSS class를 a에 🌟할당🌟하면 실행됨\n",
    "        print(\"JSS 클래스 선언!\")\n",
    "    def show(self): # 함수 선언, a.show() 즉 변수.함수() 입력시 실행됨\n",
    "        print(\"show 실행!\")"
   ]
  },
  {
   "cell_type": "code",
   "execution_count": 43,
   "id": "4bfb7d28-5fdb-4349-a084-42edfa3f8a31",
   "metadata": {
    "tags": []
   },
   "outputs": [
    {
     "name": "stdout",
     "output_type": "stream",
     "text": [
      "JSS 클래스 선언!\n",
      "show 실행!\n"
     ]
    }
   ],
   "source": [
    "a = JSS1() # 할당하자마자 실행이 됨\n",
    "a.show() # 변수.함수() 시 실행됨"
   ]
  },
  {
   "cell_type": "markdown",
   "id": "643c3d25-f3a4-4456-95d2-cecc60a8a7a8",
   "metadata": {},
   "source": [
    "#### **자기소개서 클래스(2) 만들기**"
   ]
  },
  {
   "cell_type": "code",
   "execution_count": 44,
   "id": "3f6f12d8-0dac-493d-8e76-e7375afa5eae",
   "metadata": {},
   "outputs": [],
   "source": [
    "class JSS2:\n",
    "    def __init__(self): # self란? 클래스를 저장할 변수에 해당!\n",
    "        self.name = input(\"이름: \")\n",
    "        self.age = input(\"나이: \")\n",
    "    def show(self): # self는 앞으로 가야하므로 show 함수는 입력변수를 받지 않음!\n",
    "        print(\"나의 이름은 {}, 나이는 {}세입니다.\".format(self.name, self.age))\n",
    "        \n",
    "# a = JSS2() -> a는 해당 class를 지칭하는 self에 해당하는 변수!\n",
    "# 위 입력시 __init__ 하단 코드가 실행됨\n",
    "# a.name, a.age 사용 가능!\n",
    "# a.show() 함수 사용 가능!"
   ]
  },
  {
   "cell_type": "code",
   "execution_count": 45,
   "id": "70f2f257-94bb-48cf-832d-6fd178141173",
   "metadata": {},
   "outputs": [
    {
     "name": "stdin",
     "output_type": "stream",
     "text": [
      "이름:  aaa\n",
      "나이:  22\n"
     ]
    }
   ],
   "source": [
    "a = JSS2()"
   ]
  },
  {
   "cell_type": "code",
   "execution_count": 46,
   "id": "1932ddd7-5049-4adf-934f-1978b5a389df",
   "metadata": {},
   "outputs": [
    {
     "name": "stdout",
     "output_type": "stream",
     "text": [
      "aaa\n",
      "22\n",
      "나의 이름은 aaa, 나이는 22세입니다.\n"
     ]
    }
   ],
   "source": [
    "print(a.name)\n",
    "print(a.age)\n",
    "a.show()"
   ]
  },
  {
   "cell_type": "markdown",
   "id": "b1da5374-beaa-4f7f-9a38-fbc9293ad2cd",
   "metadata": {
    "tags": []
   },
   "source": [
    "#### **자기소개서 클래스(3) 만들기 - 상속을 이용!!**"
   ]
  },
  {
   "cell_type": "code",
   "execution_count": 47,
   "id": "28067cc0-fae7-42f7-bf2c-05f43e8c0f08",
   "metadata": {},
   "outputs": [],
   "source": [
    "class JSS3(JSS2):\n",
    "    pass # 완전히 동일한 클래스를 만들기"
   ]
  },
  {
   "cell_type": "code",
   "execution_count": 48,
   "id": "ab8c0e7d-666e-41f2-82df-91482bfe60c4",
   "metadata": {},
   "outputs": [
    {
     "name": "stdin",
     "output_type": "stream",
     "text": [
      "이름:  bbb\n",
      "나이:  33\n"
     ]
    }
   ],
   "source": [
    "a = JSS3()"
   ]
  },
  {
   "cell_type": "code",
   "execution_count": 49,
   "id": "50c1cf75-a220-4c58-8167-0141cf946849",
   "metadata": {},
   "outputs": [
    {
     "name": "stdout",
     "output_type": "stream",
     "text": [
      "bbb\n",
      "33\n",
      "나의 이름은 bbb, 나이는 33세입니다.\n"
     ]
    }
   ],
   "source": [
    "print(a.name)\n",
    "print(a.age)\n",
    "a.show()"
   ]
  },
  {
   "cell_type": "markdown",
   "id": "194e50c3-e0ee-412b-80e4-7beed629d8b3",
   "metadata": {},
   "source": [
    "#### **자기소개서 클래스(4) 만들기 - 상속을 이용!!**"
   ]
  },
  {
   "cell_type": "code",
   "execution_count": 57,
   "id": "44f08d2e-7d6d-4f5f-827f-0ddd370f8997",
   "metadata": {},
   "outputs": [],
   "source": [
    "class JSS4(JSS2):\n",
    "    def __init__(self):\n",
    "        super().__init__() # super()로 JSS2의 __init__ 하단 내용을 전부 가져온다고 생각하면 됨!\n",
    "        self.gender = input(\"성별: \") # 내용 추가\n",
    "    def show(self):\n",
    "        print(\"나의 이름은 {}, 성별은 {}, 나이는 {}세입니다.\".format(self.name, self.gender, self.age))"
   ]
  },
  {
   "cell_type": "code",
   "execution_count": 58,
   "id": "df163f5d-0a32-44f7-a73b-7a5c51e2da94",
   "metadata": {},
   "outputs": [
    {
     "name": "stdin",
     "output_type": "stream",
     "text": [
      "이름:  홍길동\n",
      "나이:  30\n",
      "성별:  남\n"
     ]
    }
   ],
   "source": [
    "a = JSS4()"
   ]
  },
  {
   "cell_type": "code",
   "execution_count": 59,
   "id": "68ca75a6-848d-4d34-add1-605c07a22b69",
   "metadata": {},
   "outputs": [
    {
     "name": "stdout",
     "output_type": "stream",
     "text": [
      "나의 이름은 홍길동, 성별은 남, 나이는 30세입니다.\n"
     ]
    }
   ],
   "source": [
    "a.show()"
   ]
  },
  {
   "cell_type": "markdown",
   "id": "6181cf33-23ae-49be-b33d-fae96da47730",
   "metadata": {
    "jp-MarkdownHeadingCollapsed": true,
    "tags": []
   },
   "source": [
    "# 9) 예외처리"
   ]
  },
  {
   "cell_type": "markdown",
   "id": "9a895af4-3a70-49ae-88d2-a8121ada9aee",
   "metadata": {
    "jp-MarkdownHeadingCollapsed": true,
    "tags": []
   },
   "source": [
    "### ***Error***\n",
    "> try: 에러 미발생 시 실행 코드  \n",
    "except 에러문: 에러 발생 시 실행 코드"
   ]
  },
  {
   "cell_type": "code",
   "execution_count": 81,
   "id": "57775fb6-fee5-45e5-8c1f-6cc779d93666",
   "metadata": {},
   "outputs": [
    {
     "name": "stdout",
     "output_type": "stream",
     "text": [
      "나누기 전용 계산기입니다.\n"
     ]
    },
    {
     "name": "stdin",
     "output_type": "stream",
     "text": [
      "첫 번째 숫자를 입력하세요:  30\n",
      "두 번째 숫자를 입력하세요:  5\n"
     ]
    },
    {
     "name": "stdout",
     "output_type": "stream",
     "text": [
      "30 / 5 = 6\n"
     ]
    }
   ],
   "source": [
    "try:\n",
    "    print(\"나누기 전용 계산기입니다.\")\n",
    "    num1 = int(input(\"첫 번째 숫자를 입력하세요: \"))\n",
    "    num2 = int(input(\"두 번째 숫자를 입력하세요: \"))\n",
    "    print(\"{0} / {1} = {2}\".format(num1, num2, int(num1/num2)))\n",
    "except ValueError:\n",
    "    print(\"에러: 잘못된 값을 입력하였습니다.\")\n",
    "except ZeroDivisionError as err:\n",
    "    print(err)"
   ]
  },
  {
   "cell_type": "code",
   "execution_count": 69,
   "id": "2313c81d-4857-458d-a6fc-f2d6d5d032d1",
   "metadata": {},
   "outputs": [
    {
     "name": "stdout",
     "output_type": "stream",
     "text": [
      "나누기 전용 계산기입니다.\n"
     ]
    },
    {
     "name": "stdin",
     "output_type": "stream",
     "text": [
      "첫 번째 숫자를 입력하세요:  30\n",
      "두 번째 숫자를 입력하세요:  4\n"
     ]
    },
    {
     "name": "stdout",
     "output_type": "stream",
     "text": [
      "알 수 없는 에러가 발생하였습니다.\n",
      "list index out of range\n"
     ]
    }
   ],
   "source": [
    "try:\n",
    "    print(\"나누기 전용 계산기입니다.\")\n",
    "    nums = []\n",
    "    nums.append(int(input(\"첫 번째 숫자를 입력하세요: \")))\n",
    "    nums.append(int(input(\"두 번째 숫자를 입력하세요: \")))\n",
    "    # nums.append(int(nums[0] / nums[1]))\n",
    "    print(\"{0} / {1} = {2}\".format(nums[0], nums[1], nums[2]))\n",
    "except ValueError:\n",
    "    print(\"에러: 잘못된 값을 입력하였습니다.\")\n",
    "except ZeroDivisionError as err:\n",
    "    print(err)\n",
    "except Exception as err:\n",
    "    print(\"알 수 없는 에러가 발생하였습니다.\")\n",
    "    print(err) # error 내용 출력하기"
   ]
  },
  {
   "cell_type": "code",
   "execution_count": 72,
   "id": "027a6201-ce11-49fb-9b93-7b30d1337077",
   "metadata": {},
   "outputs": [
    {
     "name": "stdout",
     "output_type": "stream",
     "text": [
      "한 자리 숫자 나누기 전용 계산기입니다.\n"
     ]
    },
    {
     "name": "stdin",
     "output_type": "stream",
     "text": [
      "첫 번째 숫자를 입력하세요:  6\n",
      "두 번째 숫자를 입력하세요:  3\n"
     ]
    },
    {
     "name": "stdout",
     "output_type": "stream",
     "text": [
      "6 / 3 = 2\n"
     ]
    }
   ],
   "source": [
    "try:\n",
    "    print(\"한 자리 숫자 나누기 전용 계산기입니다.\")\n",
    "    num1 = int(input(\"첫 번째 숫자를 입력하세요: \"))\n",
    "    num2 = int(input(\"두 번째 숫자를 입력하세요: \"))\n",
    "    if num1 >= 10 or num2 >= 10:\n",
    "        raise ValueError\n",
    "    print(\"{0} / {1} = {2}\".format(num1, num2, int(num1 / num2)))\n",
    "except ValueError:\n",
    "    print(\"잘못된 값을 입력하였습니다. 한 자리 숫자만 입력하세요\")"
   ]
  },
  {
   "cell_type": "markdown",
   "id": "6c06c5e4-b752-4a42-ac24-0c26742c2ced",
   "metadata": {
    "jp-MarkdownHeadingCollapsed": true,
    "tags": []
   },
   "source": [
    "### ***사용자 정의 Error***\n",
    "> class를 이용해 정의"
   ]
  },
  {
   "cell_type": "code",
   "execution_count": 78,
   "id": "303fd435-099f-4341-af96-ba1ce7d831c9",
   "metadata": {},
   "outputs": [
    {
     "name": "stdout",
     "output_type": "stream",
     "text": [
      "한 자리 숫자 나누기 전용 계산기입니다.\n"
     ]
    },
    {
     "name": "stdin",
     "output_type": "stream",
     "text": [
      "첫 번째 숫자를 입력하세요:  30\n",
      "두 번째 숫자를 입력하세요:  5\n"
     ]
    },
    {
     "name": "stdout",
     "output_type": "stream",
     "text": [
      "에러가 발생하였습니다. 한 자리 숫자만 입력하세요.\n",
      "입력값: 30, 5\n"
     ]
    }
   ],
   "source": [
    "class BigNumberError(Exception):\n",
    "    def __init__(self, msg):\n",
    "        self.msg = msg\n",
    "    def __str__(self): # 클래스 뒤 출력문 입력 가능\n",
    "        return self.msg\n",
    "\n",
    "try:\n",
    "    print(\"한 자리 숫자 나누기 전용 계산기입니다.\")\n",
    "    num1 = int(input(\"첫 번째 숫자를 입력하세요: \"))\n",
    "    num2 = int(input(\"두 번째 숫자를 입력하세요: \"))\n",
    "    if num1 >= 10 or num2 >= 10:\n",
    "        raise BigNumberError(\"입력값: {0}, {1}\".format(num1, num2))\n",
    "    print(\"{0} / {1} = {2}\".format(num1, num2, int(num1 / num2)))\n",
    "except ValueError:\n",
    "    print(\"잘못된 값을 입력하였습니다.\")\n",
    "except BigNumberError as err:\n",
    "    print(\"에러가 발생하였습니다. 한 자리 숫자만 입력하세요.\")\n",
    "    print(err)"
   ]
  },
  {
   "cell_type": "markdown",
   "id": "5ac680fa-9d74-48b7-ae16-13e815bbb466",
   "metadata": {
    "jp-MarkdownHeadingCollapsed": true,
    "tags": []
   },
   "source": [
    "### ***finally***\n",
    "> 오류 발생에 관계없이 무조건 실행"
   ]
  },
  {
   "cell_type": "code",
   "execution_count": 80,
   "id": "6918969e-e450-465d-bf5d-39b9006102c1",
   "metadata": {},
   "outputs": [
    {
     "name": "stdout",
     "output_type": "stream",
     "text": [
      "한 자리 숫자 나누기 전용 계산기입니다.\n"
     ]
    },
    {
     "name": "stdin",
     "output_type": "stream",
     "text": [
      "첫 번째 숫자를 입력하세요:  30\n",
      "두 번째 숫자를 입력하세요:  5\n"
     ]
    },
    {
     "name": "stdout",
     "output_type": "stream",
     "text": [
      "에러가 발생하였습니다. 한 자리 숫자만 입력하세요.\n",
      "입력값: 30, 5\n",
      "계산기를 이용해 주셔서 감사합니다\n"
     ]
    }
   ],
   "source": [
    "class BigNumberError(Exception):\n",
    "    def __init__(self, msg):\n",
    "        self.msg = msg\n",
    "    def __str__(self): # 클래스 뒤 출력문 입력 가능\n",
    "        return self.msg\n",
    "\n",
    "try:\n",
    "    print(\"한 자리 숫자 나누기 전용 계산기입니다.\")\n",
    "    num1 = int(input(\"첫 번째 숫자를 입력하세요: \"))\n",
    "    num2 = int(input(\"두 번째 숫자를 입력하세요: \"))\n",
    "    if num1 >= 10 or num2 >= 10:\n",
    "        raise BigNumberError(\"입력값: {0}, {1}\".format(num1, num2))\n",
    "    print(\"{0} / {1} = {2}\".format(num1, num2, int(num1 / num2)))\n",
    "except ValueError:\n",
    "    print(\"잘못된 값을 입력하였습니다.\")\n",
    "except BigNumberError as err:\n",
    "    print(\"에러가 발생하였습니다. 한 자리 숫자만 입력하세요.\")\n",
    "    print(err)\n",
    "finally:\n",
    "    print(\"계산기를 이용해 주셔서 감사합니다\")"
   ]
  },
  {
   "cell_type": "markdown",
   "id": "6c7cc4ad-89c4-4629-82b4-ced02fa879fc",
   "metadata": {},
   "source": [
    "# 10) 모듈, 패키지"
   ]
  },
  {
   "cell_type": "markdown",
   "id": "5d97f678-f7d0-4c52-897b-22759642f703",
   "metadata": {},
   "source": [
    "### ***모듈***"
   ]
  },
  {
   "cell_type": "code",
   "execution_count": 97,
   "id": "a466886c-3cd8-459d-acff-f184a14fa56c",
   "metadata": {
    "collapsed": true,
    "jupyter": {
     "outputs_hidden": true
    },
    "tags": []
   },
   "outputs": [
    {
     "ename": "AttributeError",
     "evalue": "module 'theater_module' has no attribute 'price'",
     "output_type": "error",
     "traceback": [
      "\u001b[0;31m---------------------------------------------------------------------------\u001b[0m",
      "\u001b[0;31mAttributeError\u001b[0m                            Traceback (most recent call last)",
      "Cell \u001b[0;32mIn[97], line 2\u001b[0m\n\u001b[1;32m      1\u001b[0m \u001b[38;5;28;01mimport\u001b[39;00m \u001b[38;5;21;01mtheater_module\u001b[39;00m\n\u001b[0;32m----> 2\u001b[0m \u001b[43mtheater_module\u001b[49m\u001b[38;5;241;43m.\u001b[39;49m\u001b[43mprice\u001b[49m(\u001b[38;5;241m3\u001b[39m) \u001b[38;5;66;03m# 3명이서 영화보러 갔을 때의 가격\u001b[39;00m\n\u001b[1;32m      3\u001b[0m theater_module\u001b[38;5;241m.\u001b[39mprice_morning(\u001b[38;5;241m4\u001b[39m) \u001b[38;5;66;03m# 4명이서 조조 할인 영화 보러 갔을 때의 가격\u001b[39;00m\n\u001b[1;32m      4\u001b[0m theater_module\u001b[38;5;241m.\u001b[39mprice_soldier(\u001b[38;5;241m5\u001b[39m) \u001b[38;5;66;03m# 5명이서 군인 할인 영화 보러 갔을 때의 가격\u001b[39;00m\n",
      "\u001b[0;31mAttributeError\u001b[0m: module 'theater_module' has no attribute 'price'"
     ]
    }
   ],
   "source": [
    "import theater_module\n",
    "theater_module.price(3) # 3명이서 영화보러 갔을 때의 가격\n",
    "theater_module.price_morning(4) # 4명이서 조조 할인 영화 보러 갔을 때의 가격\n",
    "theater_module.price_soldier(5) # 5명이서 군인 할인 영화 보러 갔을 때의 가격"
   ]
  },
  {
   "cell_type": "code",
   "execution_count": 93,
   "id": "af7d50eb-0933-472a-9cfb-66da98de34bd",
   "metadata": {
    "collapsed": true,
    "jupyter": {
     "outputs_hidden": true
    },
    "tags": []
   },
   "outputs": [
    {
     "ename": "AttributeError",
     "evalue": "module 'theater_module' has no attribute 'price'",
     "output_type": "error",
     "traceback": [
      "\u001b[0;31m---------------------------------------------------------------------------\u001b[0m",
      "\u001b[0;31mAttributeError\u001b[0m                            Traceback (most recent call last)",
      "Cell \u001b[0;32mIn[93], line 2\u001b[0m\n\u001b[1;32m      1\u001b[0m \u001b[38;5;28;01mimport\u001b[39;00m \u001b[38;5;21;01mtheater_module\u001b[39;00m \u001b[38;5;28;01mas\u001b[39;00m \u001b[38;5;21;01mmv\u001b[39;00m\n\u001b[0;32m----> 2\u001b[0m \u001b[43mmv\u001b[49m\u001b[38;5;241;43m.\u001b[39;49m\u001b[43mprice\u001b[49m(\u001b[38;5;241m3\u001b[39m)\n\u001b[1;32m      3\u001b[0m mv\u001b[38;5;241m.\u001b[39mprice_morning(\u001b[38;5;241m4\u001b[39m)\n\u001b[1;32m      4\u001b[0m mv\u001b[38;5;241m.\u001b[39mprice_soldier(\u001b[38;5;241m5\u001b[39m)\n",
      "\u001b[0;31mAttributeError\u001b[0m: module 'theater_module' has no attribute 'price'"
     ]
    }
   ],
   "source": [
    "import theater_module as mv\n",
    "mv.price(3)\n",
    "mv.price_morning(4)\n",
    "mv.price_soldier(5)"
   ]
  },
  {
   "cell_type": "code",
   "execution_count": 94,
   "id": "0a758e3b-8403-46fe-839e-2e996b9b33ce",
   "metadata": {
    "collapsed": true,
    "jupyter": {
     "outputs_hidden": true
    },
    "tags": []
   },
   "outputs": [
    {
     "ename": "NameError",
     "evalue": "name 'price' is not defined",
     "output_type": "error",
     "traceback": [
      "\u001b[0;31m---------------------------------------------------------------------------\u001b[0m",
      "\u001b[0;31mNameError\u001b[0m                                 Traceback (most recent call last)",
      "Cell \u001b[0;32mIn[94], line 2\u001b[0m\n\u001b[1;32m      1\u001b[0m \u001b[38;5;28;01mfrom\u001b[39;00m \u001b[38;5;21;01mtheater_module\u001b[39;00m \u001b[38;5;28;01mimport\u001b[39;00m \u001b[38;5;241m*\u001b[39m\n\u001b[0;32m----> 2\u001b[0m \u001b[43mprice\u001b[49m(\u001b[38;5;241m3\u001b[39m)\n\u001b[1;32m      3\u001b[0m price_morning(\u001b[38;5;241m4\u001b[39m)\n\u001b[1;32m      4\u001b[0m price_soldier(\u001b[38;5;241m5\u001b[39m)\n",
      "\u001b[0;31mNameError\u001b[0m: name 'price' is not defined"
     ]
    }
   ],
   "source": [
    "from theater_module import *\n",
    "price(3)\n",
    "price_morning(4)\n",
    "price_soldier(5)"
   ]
  },
  {
   "cell_type": "code",
   "execution_count": null,
   "id": "cc457e8a-cb5e-4d4f-953b-bcee1a24e7ec",
   "metadata": {},
   "outputs": [],
   "source": [
    "from theater_module import price, price_morning\n",
    "price(5)\n",
    "price_morning(6)"
   ]
  },
  {
   "cell_type": "code",
   "execution_count": null,
   "id": "9c493003-607c-4f9f-9439-a209fc89c966",
   "metadata": {},
   "outputs": [],
   "source": [
    "from theater_module import price_soldier as price\n",
    "price(5)"
   ]
  },
  {
   "cell_type": "markdown",
   "id": "7eca9122-420a-4ecc-96ef-efb4d11b1212",
   "metadata": {},
   "source": [
    "### ***패키지***"
   ]
  },
  {
   "cell_type": "markdown",
   "id": "3c59edd6-f67e-4146-9e69-5c11976efce4",
   "metadata": {},
   "source": [
    "#### **(주의) import ~ . 모듈/패키지만 가능!**"
   ]
  },
  {
   "cell_type": "code",
   "execution_count": 95,
   "id": "71505541-7cd2-4a4f-9c5c-e2060c04d85a",
   "metadata": {},
   "outputs": [
    {
     "name": "stdout",
     "output_type": "stream",
     "text": [
      "[태국 패키지 3박 5일] 방콕, 파타야 여행 (야시장 투어) 50만원\n"
     ]
    }
   ],
   "source": [
    "import travel.thailand\n",
    "trip_to = travel.thailand.ThailandPackage()\n",
    "trip_to.detail()"
   ]
  },
  {
   "cell_type": "markdown",
   "id": "7f432751-a6f5-4c3f-827f-34353bceb345",
   "metadata": {
    "tags": []
   },
   "source": [
    "#### **from ~ import ~ . 모듈/패키지/클래스/함수 모두 가능!**"
   ]
  },
  {
   "cell_type": "code",
   "execution_count": 98,
   "id": "7199ac2f-9b06-40a6-ade0-2566ba76f4d6",
   "metadata": {},
   "outputs": [
    {
     "name": "stdout",
     "output_type": "stream",
     "text": [
      "[태국 패키지 3박 5일] 방콕, 파타야 여행 (야시장 투어) 50만원\n"
     ]
    }
   ],
   "source": [
    "from travel.thailand import ThailandPackage\n",
    "trip_to = ThailandPackage()\n",
    "trip_to.detail()"
   ]
  },
  {
   "cell_type": "markdown",
   "id": "82d0175f-62be-4173-a083-2e6256c94655",
   "metadata": {},
   "source": [
    "### ***\\_all\\_***"
   ]
  },
  {
   "cell_type": "code",
   "execution_count": null,
   "id": "711ba7ca-3376-4640-bdfc-0ff4d565dc4a",
   "metadata": {},
   "outputs": [],
   "source": [
    "from travel import *"
   ]
  }
 ],
 "metadata": {
  "kernelspec": {
   "display_name": "Python 3 (ipykernel)",
   "language": "python",
   "name": "python3"
  },
  "language_info": {
   "codemirror_mode": {
    "name": "ipython",
    "version": 3
   },
   "file_extension": ".py",
   "mimetype": "text/x-python",
   "name": "python",
   "nbconvert_exporter": "python",
   "pygments_lexer": "ipython3",
   "version": "3.8.15"
  }
 },
 "nbformat": 4,
 "nbformat_minor": 5
}
